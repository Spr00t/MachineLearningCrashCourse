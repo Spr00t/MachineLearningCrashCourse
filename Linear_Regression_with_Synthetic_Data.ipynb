{
  "cells": [
    {
      "cell_type": "code",
      "metadata": {
        "id": "wDlWLbfkJtvu",
        "colab_type": "code",
        "cellView": "form",
        "colab": {}
      },
      "source": [
        "#@title Copyright 2020 Google LLC. Double-click here for license information.\n",
        "# Licensed under the Apache License, Version 2.0 (the \"License\");\n",
        "# you may not use this file except in compliance with the License.\n",
        "# You may obtain a copy of the License at\n",
        "#\n",
        "# https://www.apache.org/licenses/LICENSE-2.0\n",
        "#\n",
        "# Unless required by applicable law or agreed to in writing, software\n",
        "# distributed under the License is distributed on an \"AS IS\" BASIS,\n",
        "# WITHOUT WARRANTIES OR CONDITIONS OF ANY KIND, either express or implied.\n",
        "# See the License for the specific language governing permissions and\n",
        "# limitations under the License."
      ],
      "execution_count": null,
      "outputs": []
    },
    {
      "cell_type": "markdown",
      "metadata": {
        "id": "TL5y5fY9Jy_x",
        "colab_type": "text"
      },
      "source": [
        "# Simple Linear Regression with Synthetic Data\n",
        "\n",
        "In this first Colab, you'll explore linear regression with a simple database. "
      ]
    },
    {
      "cell_type": "markdown",
      "metadata": {
        "id": "DZz29MwGgE2Y",
        "colab_type": "text"
      },
      "source": [
        "## Learning objectives:\n",
        "\n",
        "After doing this exercise, you'll know how to do the following:\n",
        "\n",
        "  * Run Colabs.\n",
        "  * Tune the following [hyperparameters](https://developers.google.com/machine-learning/glossary/#hyperparameter):\n",
        "    * [learning rate](https://developers.google.com/machine-learning/glossary/#learning_rate)\n",
        "    * number of [epochs](https://developers.google.com/machine-learning/glossary/#epoch)\n",
        "    * [batch size](https://developers.google.com/machine-learning/glossary/#batch_size)\n",
        "  * Interpret different kinds of [loss curves](https://developers.google.com/machine-learning/glossary/#loss_curve)."
      ]
    },
    {
      "cell_type": "markdown",
      "metadata": {
        "id": "wm3K3dHlf_1n",
        "colab_type": "text"
      },
      "source": [
        "## About Colabs\n",
        "\n",
        "Machine Learning Crash Course uses Colaboratories (**Colabs**) for all programming exercises. Colab is Google's implementation of [Jupyter Notebook](https://jupyter.org/). Like all Jupyter Notebooks, a Colab consists of two kinds of components:\n",
        "\n",
        "  * **Text cells**, which contain explanations. You are currently reading a text cell.\n",
        "  * **Code cells**, which contain Python code for you to run. Code cells have a light gray background.\n",
        "\n",
        "You *read* the text cells and *run* the code cells."
      ]
    },
    {
      "cell_type": "markdown",
      "metadata": {
        "id": "qc3e5Jbbf5aA",
        "colab_type": "text"
      },
      "source": [
        "### Running code cells\n",
        "\n",
        "You must run code cells in order. In other words, you may only run a code cell once all the code cells preceding it have already been run. \n",
        "\n",
        "To run a code cell:\n",
        "\n",
        "  1. Place the cursor anywhere inside the [ ] area at the top left of a code cell. The area inside the [ ] will display an arrow.\n",
        "  2. Click the arrow.\n",
        "\n",
        "Alternatively, you may invoke **Runtime->Run all**. Note, though, that some of the code cells will fail because not all the coding is complete. (You'll complete the coding as part of the exercise.)"
      ]
    },
    {
      "cell_type": "markdown",
      "metadata": {
        "id": "Sa35idJHf0__",
        "colab_type": "text"
      },
      "source": [
        "### Understanding hidden code cells\n",
        "\n",
        "We've **hidden** the code in code cells that don't advance the learning objectives. For example, we've hidden the code that plots graphs. However, **you must still run code cells containing hidden code**. You'll know that the code is hidden because you'll see a title (for example, \"Load the functions that build and train a model\") without seeing the code.\n",
        "\n",
        "To view the hidden code, just double click the header."
      ]
    },
    {
      "cell_type": "markdown",
      "metadata": {
        "id": "8H508dWUfvY1",
        "colab_type": "text"
      },
      "source": [
        "### Why did you see an error?\n",
        "\n",
        "If a code cell returns an error when you run it, consider two common problems:\n",
        "\n",
        "  * You didn't run *all* of the code cells preceding the current code cell.\n",
        "  * If the code cell is labeled as a **Task**, then you haven't written the necessary code. "
      ]
    },
    {
      "cell_type": "markdown",
      "metadata": {
        "id": "bMr7MPVmoiHf",
        "colab_type": "text"
      },
      "source": [
        "## Use the right version of TensorFlow\n",
        "\n",
        "The following hidden code cell ensures that the Colab will run on TensorFlow 2.X, which is the most recent version of TensorFlow:"
      ]
    },
    {
      "cell_type": "code",
      "metadata": {
        "id": "Z1pOWL7eevO8",
        "colab_type": "code",
        "cellView": "form",
        "colab": {},
        "tags": []
      },
      "source": [
        "#@title Run this Colab on TensorFlow 2.x\n",
        "%tensorflow_version 2.x"
      ],
      "execution_count": 2,
      "outputs": [
        {
          "output_type": "stream",
          "name": "stderr",
          "text": "UsageError: Line magic function `%tensorflow_version` not found.\n"
        }
      ]
    },
    {
      "cell_type": "markdown",
      "metadata": {
        "id": "xchnxAsaKKqO",
        "colab_type": "text"
      },
      "source": [
        "## Import relevant modules\n",
        "\n",
        "The following cell imports the packages that the program requires:"
      ]
    },
    {
      "cell_type": "code",
      "metadata": {
        "id": "9n9_cTveKmse",
        "colab_type": "code",
        "colab": {},
        "tags": []
      },
      "source": [
        "import pandas as pd\n",
        "import tensorflow as tf\n",
        "from matplotlib import pyplot as plt"
      ],
      "execution_count": 4,
      "outputs": [
        {
          "output_type": "stream",
          "name": "stderr",
          "text": "Matplotlib is building the font cache using fc-list. This may take a moment.\n"
        }
      ]
    },
    {
      "cell_type": "markdown",
      "metadata": {
        "id": "SIpsyJITPcbG",
        "colab_type": "text"
      },
      "source": [
        "## Define functions that build and train a model\n",
        "\n",
        "The following code defines two functions:\n",
        "\n",
        "  * `build_model(my_learning_rate)`, which builds an empty model.\n",
        "  * `train_model(model, feature, label, epochs)`, which trains the model from the examples (feature and label) you pass. \n",
        "\n",
        "Since you don't need to understand model building code right now, we've hidden this code cell.  You may optionally double-click the headline to explore this code."
      ]
    },
    {
      "cell_type": "code",
      "metadata": {
        "id": "xvO_beKVP1Ke",
        "colab_type": "code",
        "cellView": "form",
        "colab": {},
        "tags": []
      },
      "source": [
        "#@title Define the functions that build and train a model\n",
        "def build_model(my_learning_rate):\n",
        "  \"\"\"Create and compile a simple linear regression model.\"\"\"\n",
        "  # Most simple tf.keras models are sequential. \n",
        "  # A sequential model contains one or more layers.\n",
        "  model = tf.keras.models.Sequential()\n",
        "\n",
        "  # Describe the topography of the model.\n",
        "  # The topography of a simple linear regression model\n",
        "  # is a single node in a single layer. \n",
        "  model.add(tf.keras.layers.Dense(units=1, \n",
        "                                  input_shape=(1,)))\n",
        "\n",
        "  # Compile the model topography into code that \n",
        "  # TensorFlow can efficiently execute. Configure \n",
        "  # training to minimize the model's mean squared error. \n",
        "  model.compile(optimizer=tf.keras.optimizers.RMSprop(lr=my_learning_rate),\n",
        "                loss=\"mean_squared_error\",\n",
        "                metrics=[tf.keras.metrics.RootMeanSquaredError()])\n",
        "\n",
        "  return model           \n",
        "\n",
        "\n",
        "def train_model(model, feature, label, epochs, batch_size):\n",
        "  \"\"\"Train the model by feeding it data.\"\"\"\n",
        "\n",
        "  # Feed the feature values and the label values to the \n",
        "  # model. The model will train for the specified number \n",
        "  # of epochs, gradually learning how the feature values\n",
        "  # relate to the label values. \n",
        "  history = model.fit(x=feature,\n",
        "                      y=label,\n",
        "                      batch_size=batch_size,\n",
        "                      epochs=epochs)\n",
        "\n",
        "  # Gather the trained model's weight and bias.\n",
        "  trained_weight = model.get_weights()[0]\n",
        "  trained_bias = model.get_weights()[1]\n",
        "\n",
        "  # The list of epochs is stored separately from the \n",
        "  # rest of history.\n",
        "  epochs = history.epoch\n",
        "  \n",
        "  # Gather the history (a snapshot) of each epoch.\n",
        "  hist = pd.DataFrame(history.history)\n",
        "\n",
        "  # Specifically gather the model's root mean \n",
        "  #squared error at each epoch. \n",
        "  rmse = hist[\"root_mean_squared_error\"]\n",
        "\n",
        "  return trained_weight, trained_bias, epochs, rmse\n",
        "\n",
        "print(\"Defined create_model and train_model\")"
      ],
      "execution_count": 9,
      "outputs": [
        {
          "output_type": "stream",
          "name": "stdout",
          "text": "Defined create_model and train_model\n"
        }
      ]
    },
    {
      "cell_type": "markdown",
      "metadata": {
        "id": "Ak_TMAzGOIFq",
        "colab_type": "text"
      },
      "source": [
        "## Define plotting functions\n",
        "\n",
        "We're using a popular Python library called [Matplotlib](https://developers.google.com/machine-learning/glossary/#matplotlib) to create the following two plots:\n",
        "\n",
        "*  a plot of the feature values vs. the label values, and a line showing the output of the trained model.\n",
        "*  a [loss curve](https://developers.google.com/machine-learning/glossary/#loss_curve).\n",
        "\n",
        "We hid the following code cell because learning Matplotlib is not relevant to the learning objectives. Regardless, you must still run all hidden code cells."
      ]
    },
    {
      "cell_type": "code",
      "metadata": {
        "id": "QF0BFRXTOeR3",
        "colab_type": "code",
        "cellView": "form",
        "colab": {},
        "tags": []
      },
      "source": [
        "#@title Define the plotting functions\n",
        "def plot_the_model(trained_weight, trained_bias, feature, label):\n",
        "  \"\"\"Plot the trained model against the training feature and label.\"\"\"\n",
        "\n",
        "  # Label the axes.\n",
        "  plt.xlabel(\"feature\")\n",
        "  plt.ylabel(\"label\")\n",
        "\n",
        "  # Plot the feature values vs. label values.\n",
        "  plt.scatter(feature, label)\n",
        "\n",
        "  # Create a red line representing the model. The red line starts\n",
        "  # at coordinates (x0, y0) and ends at coordinates (x1, y1).\n",
        "  x0 = 0\n",
        "  y0 = trained_bias\n",
        "  x1 = my_feature[-1]\n",
        "  y1 = trained_bias + (trained_weight * x1)\n",
        "  plt.plot([x0, x1], [y0, y1], c='r')\n",
        "\n",
        "  # Render the scatter plot and the red line.\n",
        "  plt.show()\n",
        "\n",
        "def plot_the_loss_curve(epochs, rmse):\n",
        "  \"\"\"Plot the loss curve, which shows loss vs. epoch.\"\"\"\n",
        "\n",
        "  plt.figure()\n",
        "  plt.xlabel(\"Epoch\")\n",
        "  plt.ylabel(\"Root Mean Squared Error\")\n",
        "\n",
        "  plt.plot(epochs, rmse, label=\"Loss\")\n",
        "  plt.legend()\n",
        "  plt.ylim([rmse.min()*0.97, rmse.max()])\n",
        "  plt.show()\n",
        "\n",
        "print(\"Defined the plot_the_model and plot_the_loss_curve functions.\")"
      ],
      "execution_count": 13,
      "outputs": [
        {
          "output_type": "stream",
          "name": "stdout",
          "text": "Defined the plot_the_model and plot_the_loss_curve functions.\n"
        }
      ]
    },
    {
      "cell_type": "markdown",
      "metadata": {
        "id": "LVSDPusELEZ5",
        "colab_type": "text"
      },
      "source": [
        "## Define the dataset\n",
        "\n",
        "The dataset consists of 12 [examples](https://developers.google.com/machine-learning/glossary/#example). Each example consists of one [feature](https://developers.google.com/machine-learning/glossary/#feature) and one [label](https://developers.google.com/machine-learning/glossary/#label).\n"
      ]
    },
    {
      "cell_type": "code",
      "metadata": {
        "id": "rnUSYKw4LUuh",
        "colab_type": "code",
        "colab": {}
      },
      "source": [
        "my_feature = ([1.0, 2.0,  3.0,  4.0,  5.0,  6.0,  7.0,  8.0,  9.0, 10.0, 11.0, 12.0])\n",
        "my_label   = ([5.0, 8.8,  9.6, 14.2, 18.8, 19.5, 21.4, 26.8, 28.9, 32.0, 33.8, 38.2])"
      ],
      "execution_count": 11,
      "outputs": []
    },
    {
      "cell_type": "markdown",
      "metadata": {
        "id": "K24afla-4s2x",
        "colab_type": "text"
      },
      "source": [
        "## Specify the hyperparameters\n",
        "\n",
        "The hyperparameters in this Colab are as follows:\n",
        "\n",
        "  * [learning rate](https://developers.google.com/machine-learning/glossary/#learning_rate)\n",
        "  * [epochs](https://developers.google.com/machine-learning/glossary/#epoch)\n",
        "  * [batch_size](https://developers.google.com/machine-learning/glossary/#batch_size)\n",
        "\n",
        "The following code cell initializes these hyperparameters and then invokes the functions that build and train the model."
      ]
    },
    {
      "cell_type": "code",
      "metadata": {
        "id": "Ye730h13CQ97",
        "colab_type": "code",
        "colab": {},
        "tags": [
          "outputPrepend"
        ]
      },
      "source": [
        "learning_rate=0.1\n",
        "epochs=100\n",
        "my_batch_size=6\n",
        "\n",
        "my_model = build_model(learning_rate)\n",
        "trained_weight, trained_bias, epochs, rmse = train_model(my_model, my_feature, \n",
        "                                                         my_label, epochs,\n",
        "                                                         my_batch_size)\n",
        "plot_the_model(trained_weight, trained_bias, my_feature, my_label)\n",
        "plot_the_loss_curve(epochs, rmse)"
      ],
      "execution_count": 18,
      "outputs": [
        {
          "output_type": "stream",
          "name": "stdout",
          "text": "7\nEpoch 828/1000\n2/2 [==============================] - 0s 988us/step - loss: 0.8839 - root_mean_squared_error: 0.9402\nEpoch 829/1000\n2/2 [==============================] - 0s 1ms/step - loss: 0.9460 - root_mean_squared_error: 0.9726\nEpoch 830/1000\n2/2 [==============================] - 0s 875us/step - loss: 0.8759 - root_mean_squared_error: 0.9359\nEpoch 831/1000\n2/2 [==============================] - 0s 2ms/step - loss: 0.9032 - root_mean_squared_error: 0.9504\nEpoch 832/1000\n2/2 [==============================] - 0s 787us/step - loss: 0.9093 - root_mean_squared_error: 0.9536\nEpoch 833/1000\n2/2 [==============================] - 0s 1ms/step - loss: 0.9442 - root_mean_squared_error: 0.9717\nEpoch 834/1000\n2/2 [==============================] - 0s 756us/step - loss: 0.9157 - root_mean_squared_error: 0.9569\nEpoch 835/1000\n2/2 [==============================] - 0s 862us/step - loss: 0.9160 - root_mean_squared_error: 0.9571\nEpoch 836/1000\n2/2 [==============================] - 0s 1ms/step - loss: 0.8837 - root_mean_squared_error: 0.9400\nEpoch 837/1000\n2/2 [==============================] - 0s 987us/step - loss: 0.9586 - root_mean_squared_error: 0.9791\nEpoch 838/1000\n2/2 [==============================] - 0s 745us/step - loss: 0.8758 - root_mean_squared_error: 0.9358\nEpoch 839/1000\n2/2 [==============================] - 0s 865us/step - loss: 0.8874 - root_mean_squared_error: 0.9420\nEpoch 840/1000\n2/2 [==============================] - 0s 1ms/step - loss: 0.8932 - root_mean_squared_error: 0.9451\nEpoch 841/1000\n2/2 [==============================] - 0s 766us/step - loss: 0.8799 - root_mean_squared_error: 0.9380\nEpoch 842/1000\n2/2 [==============================] - 0s 1ms/step - loss: 0.8778 - root_mean_squared_error: 0.9369\nEpoch 843/1000\n2/2 [==============================] - 0s 1ms/step - loss: 0.8806 - root_mean_squared_error: 0.9384\nEpoch 844/1000\n2/2 [==============================] - 0s 1ms/step - loss: 0.8760 - root_mean_squared_error: 0.9359\nEpoch 845/1000\n2/2 [==============================] - 0s 1ms/step - loss: 0.8817 - root_mean_squared_error: 0.9390\nEpoch 846/1000\n2/2 [==============================] - 0s 2ms/step - loss: 0.9385 - root_mean_squared_error: 0.9687\nEpoch 847/1000\n2/2 [==============================] - 0s 1ms/step - loss: 0.8787 - root_mean_squared_error: 0.9374\nEpoch 848/1000\n2/2 [==============================] - 0s 1ms/step - loss: 0.8992 - root_mean_squared_error: 0.9483\nEpoch 849/1000\n2/2 [==============================] - 0s 1ms/step - loss: 0.9068 - root_mean_squared_error: 0.9523\nEpoch 850/1000\n2/2 [==============================] - 0s 926us/step - loss: 0.8770 - root_mean_squared_error: 0.9365\nEpoch 851/1000\n2/2 [==============================] - 0s 1ms/step - loss: 0.9168 - root_mean_squared_error: 0.9575\nEpoch 852/1000\n2/2 [==============================] - 0s 1ms/step - loss: 0.9461 - root_mean_squared_error: 0.9727\nEpoch 853/1000\n2/2 [==============================] - 0s 901us/step - loss: 0.8762 - root_mean_squared_error: 0.9360\nEpoch 854/1000\n2/2 [==============================] - 0s 865us/step - loss: 0.8769 - root_mean_squared_error: 0.9364\nEpoch 855/1000\n2/2 [==============================] - 0s 1ms/step - loss: 0.9135 - root_mean_squared_error: 0.9558\nEpoch 856/1000\n2/2 [==============================] - 0s 2ms/step - loss: 0.8848 - root_mean_squared_error: 0.9406\nEpoch 857/1000\n2/2 [==============================] - 0s 1ms/step - loss: 0.8768 - root_mean_squared_error: 0.9364\nEpoch 858/1000\n2/2 [==============================] - 0s 1ms/step - loss: 0.8801 - root_mean_squared_error: 0.9382\nEpoch 859/1000\n2/2 [==============================] - 0s 1ms/step - loss: 0.8808 - root_mean_squared_error: 0.9385\nEpoch 860/1000\n2/2 [==============================] - 0s 1ms/step - loss: 0.8842 - root_mean_squared_error: 0.9403\nEpoch 861/1000\n2/2 [==============================] - 0s 1ms/step - loss: 0.8780 - root_mean_squared_error: 0.9370\nEpoch 862/1000\n2/2 [==============================] - 0s 962us/step - loss: 0.8778 - root_mean_squared_error: 0.9369\nEpoch 863/1000\n2/2 [==============================] - 0s 2ms/step - loss: 0.8820 - root_mean_squared_error: 0.9392\nEpoch 864/1000\n2/2 [==============================] - 0s 810us/step - loss: 0.9181 - root_mean_squared_error: 0.9582\nEpoch 865/1000\n2/2 [==============================] - 0s 1ms/step - loss: 0.8991 - root_mean_squared_error: 0.9482\nEpoch 866/1000\n2/2 [==============================] - 0s 850us/step - loss: 0.8850 - root_mean_squared_error: 0.9407\nEpoch 867/1000\n2/2 [==============================] - 0s 867us/step - loss: 0.8995 - root_mean_squared_error: 0.9484\nEpoch 868/1000\n2/2 [==============================] - 0s 819us/step - loss: 0.8773 - root_mean_squared_error: 0.9367\nEpoch 869/1000\n2/2 [==============================] - 0s 1ms/step - loss: 0.8755 - root_mean_squared_error: 0.9357\nEpoch 870/1000\n2/2 [==============================] - 0s 2ms/step - loss: 0.9001 - root_mean_squared_error: 0.9487\nEpoch 871/1000\n2/2 [==============================] - 0s 1ms/step - loss: 0.9134 - root_mean_squared_error: 0.9557\nEpoch 872/1000\n2/2 [==============================] - 0s 2ms/step - loss: 0.8997 - root_mean_squared_error: 0.9485\nEpoch 873/1000\n2/2 [==============================] - 0s 1ms/step - loss: 0.8872 - root_mean_squared_error: 0.9419\nEpoch 874/1000\n2/2 [==============================] - 0s 811us/step - loss: 0.8876 - root_mean_squared_error: 0.9421\nEpoch 875/1000\n2/2 [==============================] - 0s 1ms/step - loss: 0.8779 - root_mean_squared_error: 0.9369\nEpoch 876/1000\n2/2 [==============================] - 0s 1ms/step - loss: 0.8753 - root_mean_squared_error: 0.9356\nEpoch 877/1000\n2/2 [==============================] - 0s 1ms/step - loss: 0.8763 - root_mean_squared_error: 0.9361\nEpoch 878/1000\n2/2 [==============================] - 0s 938us/step - loss: 0.9291 - root_mean_squared_error: 0.9639\nEpoch 879/1000\n2/2 [==============================] - 0s 2ms/step - loss: 0.8758 - root_mean_squared_error: 0.9359\nEpoch 880/1000\n2/2 [==============================] - 0s 2ms/step - loss: 0.8825 - root_mean_squared_error: 0.9394\nEpoch 881/1000\n2/2 [==============================] - 0s 1ms/step - loss: 0.9216 - root_mean_squared_error: 0.9600\nEpoch 882/1000\n2/2 [==============================] - 0s 1ms/step - loss: 0.9169 - root_mean_squared_error: 0.9576\nEpoch 883/1000\n2/2 [==============================] - 0s 2ms/step - loss: 0.9764 - root_mean_squared_error: 0.9881\nEpoch 884/1000\n2/2 [==============================] - 0s 918us/step - loss: 0.8755 - root_mean_squared_error: 0.9357\nEpoch 885/1000\n2/2 [==============================] - 0s 2ms/step - loss: 0.8822 - root_mean_squared_error: 0.9393\nEpoch 886/1000\n2/2 [==============================] - 0s 1ms/step - loss: 0.8796 - root_mean_squared_error: 0.9379\nEpoch 887/1000\n2/2 [==============================] - 0s 1ms/step - loss: 0.8930 - root_mean_squared_error: 0.9450\nEpoch 888/1000\n2/2 [==============================] - 0s 2ms/step - loss: 0.9484 - root_mean_squared_error: 0.9739\nEpoch 889/1000\n2/2 [==============================] - 0s 1ms/step - loss: 0.8791 - root_mean_squared_error: 0.9376\nEpoch 890/1000\n2/2 [==============================] - 0s 2ms/step - loss: 0.8823 - root_mean_squared_error: 0.9393\nEpoch 891/1000\n2/2 [==============================] - 0s 2ms/step - loss: 0.8859 - root_mean_squared_error: 0.9412\nEpoch 892/1000\n2/2 [==============================] - 0s 914us/step - loss: 0.8786 - root_mean_squared_error: 0.9374\nEpoch 893/1000\n2/2 [==============================] - 0s 1ms/step - loss: 0.9287 - root_mean_squared_error: 0.9637\nEpoch 894/1000\n2/2 [==============================] - 0s 2ms/step - loss: 0.8782 - root_mean_squared_error: 0.9371\nEpoch 895/1000\n2/2 [==============================] - 0s 911us/step - loss: 0.8762 - root_mean_squared_error: 0.9361\nEpoch 896/1000\n2/2 [==============================] - 0s 914us/step - loss: 0.9005 - root_mean_squared_error: 0.9489\nEpoch 897/1000\n2/2 [==============================] - 0s 1ms/step - loss: 0.8807 - root_mean_squared_error: 0.9384\nEpoch 898/1000\n2/2 [==============================] - 0s 1ms/step - loss: 0.9187 - root_mean_squared_error: 0.9585\nEpoch 899/1000\n2/2 [==============================] - 0s 2ms/step - loss: 0.8799 - root_mean_squared_error: 0.9380\nEpoch 900/1000\n2/2 [==============================] - 0s 1ms/step - loss: 0.8866 - root_mean_squared_error: 0.9416\nEpoch 901/1000\n2/2 [==============================] - 0s 4ms/step - loss: 0.8829 - root_mean_squared_error: 0.9396\nEpoch 902/1000\n2/2 [==============================] - 0s 2ms/step - loss: 0.9890 - root_mean_squared_error: 0.9945\nEpoch 903/1000\n2/2 [==============================] - 0s 1ms/step - loss: 0.8761 - root_mean_squared_error: 0.9360\nEpoch 904/1000\n2/2 [==============================] - 0s 1ms/step - loss: 0.8759 - root_mean_squared_error: 0.9359\nEpoch 905/1000\n2/2 [==============================] - 0s 1ms/step - loss: 0.8841 - root_mean_squared_error: 0.9403\nEpoch 906/1000\n2/2 [==============================] - 0s 2ms/step - loss: 0.9042 - root_mean_squared_error: 0.9509\nEpoch 907/1000\n2/2 [==============================] - 0s 1ms/step - loss: 0.8754 - root_mean_squared_error: 0.9356\nEpoch 908/1000\n2/2 [==============================] - 0s 2ms/step - loss: 0.8760 - root_mean_squared_error: 0.9360\nEpoch 909/1000\n2/2 [==============================] - 0s 1ms/step - loss: 0.8760 - root_mean_squared_error: 0.9360\nEpoch 910/1000\n2/2 [==============================] - 0s 2ms/step - loss: 0.8757 - root_mean_squared_error: 0.9358\nEpoch 911/1000\n2/2 [==============================] - 0s 1ms/step - loss: 0.9551 - root_mean_squared_error: 0.9773\nEpoch 912/1000\n2/2 [==============================] - 0s 950us/step - loss: 0.9036 - root_mean_squared_error: 0.9506\nEpoch 913/1000\n2/2 [==============================] - 0s 2ms/step - loss: 0.8765 - root_mean_squared_error: 0.9362\nEpoch 914/1000\n2/2 [==============================] - 0s 1ms/step - loss: 0.9373 - root_mean_squared_error: 0.9681\nEpoch 915/1000\n2/2 [==============================] - 0s 1ms/step - loss: 0.9424 - root_mean_squared_error: 0.9708\nEpoch 916/1000\n2/2 [==============================] - 0s 3ms/step - loss: 0.9270 - root_mean_squared_error: 0.9628\nEpoch 917/1000\n2/2 [==============================] - 0s 3ms/step - loss: 0.8758 - root_mean_squared_error: 0.9358\nEpoch 918/1000\n2/2 [==============================] - 0s 854us/step - loss: 0.8829 - root_mean_squared_error: 0.9396\nEpoch 919/1000\n2/2 [==============================] - 0s 2ms/step - loss: 0.8848 - root_mean_squared_error: 0.9406\nEpoch 920/1000\n2/2 [==============================] - 0s 2ms/step - loss: 0.8822 - root_mean_squared_error: 0.9393\nEpoch 921/1000\n2/2 [==============================] - 0s 2ms/step - loss: 0.8767 - root_mean_squared_error: 0.9363\nEpoch 922/1000\n2/2 [==============================] - 0s 2ms/step - loss: 0.8862 - root_mean_squared_error: 0.9414\nEpoch 923/1000\n2/2 [==============================] - 0s 2ms/step - loss: 0.9015 - root_mean_squared_error: 0.9495\nEpoch 924/1000\n2/2 [==============================] - 0s 1ms/step - loss: 0.8872 - root_mean_squared_error: 0.9419\nEpoch 925/1000\n2/2 [==============================] - 0s 2ms/step - loss: 0.8796 - root_mean_squared_error: 0.9379\nEpoch 926/1000\n2/2 [==============================] - 0s 1ms/step - loss: 0.8805 - root_mean_squared_error: 0.9384\nEpoch 927/1000\n2/2 [==============================] - 0s 951us/step - loss: 0.9144 - root_mean_squared_error: 0.9563\nEpoch 928/1000\n2/2 [==============================] - 0s 1ms/step - loss: 0.8805 - root_mean_squared_error: 0.9384\nEpoch 929/1000\n2/2 [==============================] - 0s 1ms/step - loss: 0.9138 - root_mean_squared_error: 0.9559\nEpoch 930/1000\n2/2 [==============================] - 0s 1ms/step - loss: 0.9605 - root_mean_squared_error: 0.9800\nEpoch 931/1000\n2/2 [==============================] - 0s 1ms/step - loss: 0.8776 - root_mean_squared_error: 0.9368\nEpoch 932/1000\n2/2 [==============================] - 0s 1ms/step - loss: 0.8880 - root_mean_squared_error: 0.9423\nEpoch 933/1000\n2/2 [==============================] - 0s 1ms/step - loss: 0.9712 - root_mean_squared_error: 0.9855\nEpoch 934/1000\n2/2 [==============================] - 0s 1ms/step - loss: 0.9152 - root_mean_squared_error: 0.9567\nEpoch 935/1000\n2/2 [==============================] - 0s 1ms/step - loss: 0.8834 - root_mean_squared_error: 0.9399\nEpoch 936/1000\n2/2 [==============================] - 0s 1ms/step - loss: 0.9042 - root_mean_squared_error: 0.9509\nEpoch 937/1000\n2/2 [==============================] - 0s 966us/step - loss: 0.8793 - root_mean_squared_error: 0.9377\nEpoch 938/1000\n2/2 [==============================] - 0s 1ms/step - loss: 0.8757 - root_mean_squared_error: 0.9358\nEpoch 939/1000\n2/2 [==============================] - 0s 977us/step - loss: 0.9246 - root_mean_squared_error: 0.9616\nEpoch 940/1000\n2/2 [==============================] - 0s 1ms/step - loss: 0.8992 - root_mean_squared_error: 0.9482\nEpoch 941/1000\n2/2 [==============================] - 0s 1ms/step - loss: 0.8772 - root_mean_squared_error: 0.9366\nEpoch 942/1000\n2/2 [==============================] - 0s 1ms/step - loss: 0.9206 - root_mean_squared_error: 0.9595\nEpoch 943/1000\n2/2 [==============================] - 0s 2ms/step - loss: 0.8755 - root_mean_squared_error: 0.9357\nEpoch 944/1000\n2/2 [==============================] - 0s 2ms/step - loss: 0.8856 - root_mean_squared_error: 0.9410\nEpoch 945/1000\n2/2 [==============================] - 0s 5ms/step - loss: 0.8758 - root_mean_squared_error: 0.9358\nEpoch 946/1000\n2/2 [==============================] - 0s 2ms/step - loss: 0.8755 - root_mean_squared_error: 0.9357\nEpoch 947/1000\n2/2 [==============================] - 0s 3ms/step - loss: 0.8766 - root_mean_squared_error: 0.9363\nEpoch 948/1000\n2/2 [==============================] - 0s 1ms/step - loss: 0.9931 - root_mean_squared_error: 0.9965\nEpoch 949/1000\n2/2 [==============================] - 0s 1ms/step - loss: 0.8753 - root_mean_squared_error: 0.9356\nEpoch 950/1000\n2/2 [==============================] - 0s 1ms/step - loss: 0.8855 - root_mean_squared_error: 0.9410\nEpoch 951/1000\n2/2 [==============================] - 0s 2ms/step - loss: 0.9115 - root_mean_squared_error: 0.9547\nEpoch 952/1000\n2/2 [==============================] - 0s 795us/step - loss: 0.8844 - root_mean_squared_error: 0.9404\nEpoch 953/1000\n2/2 [==============================] - 0s 2ms/step - loss: 0.9182 - root_mean_squared_error: 0.9582\nEpoch 954/1000\n2/2 [==============================] - 0s 2ms/step - loss: 0.8958 - root_mean_squared_error: 0.9465\nEpoch 955/1000\n2/2 [==============================] - 0s 1ms/step - loss: 0.8981 - root_mean_squared_error: 0.9477\nEpoch 956/1000\n2/2 [==============================] - 0s 1ms/step - loss: 0.8813 - root_mean_squared_error: 0.9387\nEpoch 957/1000\n2/2 [==============================] - 0s 914us/step - loss: 0.8805 - root_mean_squared_error: 0.9384\nEpoch 958/1000\n2/2 [==============================] - 0s 3ms/step - loss: 0.8819 - root_mean_squared_error: 0.9391\nEpoch 959/1000\n2/2 [==============================] - 0s 2ms/step - loss: 0.8827 - root_mean_squared_error: 0.9395\nEpoch 960/1000\n2/2 [==============================] - 0s 2ms/step - loss: 0.9000 - root_mean_squared_error: 0.9487\nEpoch 961/1000\n2/2 [==============================] - 0s 1ms/step - loss: 0.8899 - root_mean_squared_error: 0.9433\nEpoch 962/1000\n2/2 [==============================] - 0s 2ms/step - loss: 0.9643 - root_mean_squared_error: 0.9820\nEpoch 963/1000\n2/2 [==============================] - 0s 988us/step - loss: 0.8763 - root_mean_squared_error: 0.9361\nEpoch 964/1000\n2/2 [==============================] - 0s 1ms/step - loss: 0.8896 - root_mean_squared_error: 0.9432\nEpoch 965/1000\n2/2 [==============================] - 0s 824us/step - loss: 0.8756 - root_mean_squared_error: 0.9357\nEpoch 966/1000\n2/2 [==============================] - 0s 1ms/step - loss: 0.8764 - root_mean_squared_error: 0.9362\nEpoch 967/1000\n2/2 [==============================] - 0s 2ms/step - loss: 0.8773 - root_mean_squared_error: 0.9366\nEpoch 968/1000\n2/2 [==============================] - 0s 870us/step - loss: 0.8788 - root_mean_squared_error: 0.9375\nEpoch 969/1000\n2/2 [==============================] - 0s 1ms/step - loss: 0.8912 - root_mean_squared_error: 0.9440\nEpoch 970/1000\n2/2 [==============================] - 0s 816us/step - loss: 0.8902 - root_mean_squared_error: 0.9435\nEpoch 971/1000\n2/2 [==============================] - 0s 975us/step - loss: 0.9153 - root_mean_squared_error: 0.9567\nEpoch 972/1000\n2/2 [==============================] - 0s 1ms/step - loss: 0.9158 - root_mean_squared_error: 0.9570\nEpoch 973/1000\n2/2 [==============================] - 0s 798us/step - loss: 0.9062 - root_mean_squared_error: 0.9519\nEpoch 974/1000\n2/2 [==============================] - 0s 899us/step - loss: 0.9130 - root_mean_squared_error: 0.9555\nEpoch 975/1000\n2/2 [==============================] - 0s 2ms/step - loss: 0.8769 - root_mean_squared_error: 0.9365\nEpoch 976/1000\n2/2 [==============================] - 0s 1ms/step - loss: 0.8944 - root_mean_squared_error: 0.9457\nEpoch 977/1000\n2/2 [==============================] - 0s 1ms/step - loss: 0.8762 - root_mean_squared_error: 0.9361\nEpoch 978/1000\n2/2 [==============================] - 0s 1ms/step - loss: 0.8757 - root_mean_squared_error: 0.9358\nEpoch 979/1000\n2/2 [==============================] - 0s 1ms/step - loss: 0.9087 - root_mean_squared_error: 0.9533\nEpoch 980/1000\n2/2 [==============================] - 0s 1ms/step - loss: 0.8927 - root_mean_squared_error: 0.9448\nEpoch 981/1000\n2/2 [==============================] - 0s 1ms/step - loss: 0.9216 - root_mean_squared_error: 0.9600\nEpoch 982/1000\n2/2 [==============================] - 0s 926us/step - loss: 0.8752 - root_mean_squared_error: 0.9355\nEpoch 983/1000\n2/2 [==============================] - 0s 1ms/step - loss: 0.8824 - root_mean_squared_error: 0.9394\nEpoch 984/1000\n2/2 [==============================] - 0s 1ms/step - loss: 0.9381 - root_mean_squared_error: 0.9686\nEpoch 985/1000\n2/2 [==============================] - 0s 932us/step - loss: 0.8764 - root_mean_squared_error: 0.9361\nEpoch 986/1000\n2/2 [==============================] - 0s 858us/step - loss: 0.9144 - root_mean_squared_error: 0.9563\nEpoch 987/1000\n2/2 [==============================] - 0s 823us/step - loss: 0.8850 - root_mean_squared_error: 0.9408\nEpoch 988/1000\n2/2 [==============================] - 0s 1ms/step - loss: 0.8953 - root_mean_squared_error: 0.9462\nEpoch 989/1000\n2/2 [==============================] - 0s 971us/step - loss: 0.9426 - root_mean_squared_error: 0.9709\nEpoch 990/1000\n2/2 [==============================] - 0s 809us/step - loss: 0.9623 - root_mean_squared_error: 0.9810\nEpoch 991/1000\n2/2 [==============================] - 0s 927us/step - loss: 0.9104 - root_mean_squared_error: 0.9541\nEpoch 992/1000\n2/2 [==============================] - 0s 912us/step - loss: 0.9184 - root_mean_squared_error: 0.9583\nEpoch 993/1000\n2/2 [==============================] - 0s 1ms/step - loss: 0.8788 - root_mean_squared_error: 0.9375\nEpoch 994/1000\n2/2 [==============================] - 0s 927us/step - loss: 0.8885 - root_mean_squared_error: 0.9426\nEpoch 995/1000\n2/2 [==============================] - 0s 798us/step - loss: 0.8840 - root_mean_squared_error: 0.9402\nEpoch 996/1000\n2/2 [==============================] - 0s 909us/step - loss: 0.8758 - root_mean_squared_error: 0.9359\nEpoch 997/1000\n2/2 [==============================] - 0s 1ms/step - loss: 0.9285 - root_mean_squared_error: 0.9636\nEpoch 998/1000\n2/2 [==============================] - 0s 770us/step - loss: 0.9287 - root_mean_squared_error: 0.9637\nEpoch 999/1000\n2/2 [==============================] - 0s 787us/step - loss: 0.9535 - root_mean_squared_error: 0.9764\nEpoch 1000/1000\n2/2 [==============================] - 0s 777us/step - loss: 0.9272 - root_mean_squared_error: 0.9629\n"
        },
        {
          "output_type": "display_data",
          "data": {
            "text/plain": "<Figure size 432x288 with 1 Axes>",
            "image/svg+xml": "<?xml version=\"1.0\" encoding=\"utf-8\" standalone=\"no\"?>\n<!DOCTYPE svg PUBLIC \"-//W3C//DTD SVG 1.1//EN\"\n  \"http://www.w3.org/Graphics/SVG/1.1/DTD/svg11.dtd\">\n<!-- Created with matplotlib (https://matplotlib.org/) -->\n<svg height=\"265.990024pt\" version=\"1.1\" viewBox=\"0 0 382.603125 265.990024\" width=\"382.603125pt\" xmlns=\"http://www.w3.org/2000/svg\" xmlns:xlink=\"http://www.w3.org/1999/xlink\">\n <defs>\n  <style type=\"text/css\">\n*{stroke-linecap:butt;stroke-linejoin:round;}\n  </style>\n </defs>\n <g id=\"figure_1\">\n  <g id=\"patch_1\">\n   <path d=\"M 0 265.990024 \nL 382.603125 265.990024 \nL 382.603125 0 \nL 0 0 \nz\n\" style=\"fill:none;\"/>\n  </g>\n  <g id=\"axes_1\">\n   <g id=\"patch_2\">\n    <path d=\"M 40.603125 228.433774 \nL 375.403125 228.433774 \nL 375.403125 10.993774 \nL 40.603125 10.993774 \nz\n\" style=\"fill:#ffffff;\"/>\n   </g>\n   <g id=\"PathCollection_1\">\n    <defs>\n     <path d=\"M 0 3 \nC 0.795609 3 1.55874 2.683901 2.12132 2.12132 \nC 2.683901 1.55874 3 0.795609 3 0 \nC 3 -0.795609 2.683901 -1.55874 2.12132 -2.12132 \nC 1.55874 -2.683901 0.795609 -3 0 -3 \nC -0.795609 -3 -1.55874 -2.683901 -2.12132 -2.12132 \nC -2.683901 -1.55874 -3 -0.795609 -3 0 \nC -3 0.795609 -2.683901 1.55874 -2.12132 2.12132 \nC -1.55874 2.683901 -0.795609 3 0 3 \nz\n\" id=\"mc1e19516ca\" style=\"stroke:#1f77b4;\"/>\n    </defs>\n    <g clip-path=\"url(#p4598417330)\">\n     <use style=\"fill:#1f77b4;stroke:#1f77b4;\" x=\"81.184943\" xlink:href=\"#mc1e19516ca\" y=\"203.075168\"/>\n     <use style=\"fill:#1f77b4;stroke:#1f77b4;\" x=\"106.54858\" xlink:href=\"#mc1e19516ca\" y=\"182.221208\"/>\n     <use style=\"fill:#1f77b4;stroke:#1f77b4;\" x=\"131.912216\" xlink:href=\"#mc1e19516ca\" y=\"177.8309\"/>\n     <use style=\"fill:#1f77b4;stroke:#1f77b4;\" x=\"157.275852\" xlink:href=\"#mc1e19516ca\" y=\"152.586633\"/>\n     <use style=\"fill:#1f77b4;stroke:#1f77b4;\" x=\"182.639489\" xlink:href=\"#mc1e19516ca\" y=\"127.342365\"/>\n     <use style=\"fill:#1f77b4;stroke:#1f77b4;\" x=\"208.003125\" xlink:href=\"#mc1e19516ca\" y=\"123.500846\"/>\n     <use style=\"fill:#1f77b4;stroke:#1f77b4;\" x=\"233.366761\" xlink:href=\"#mc1e19516ca\" y=\"113.073866\"/>\n     <use style=\"fill:#1f77b4;stroke:#1f77b4;\" x=\"258.730398\" xlink:href=\"#mc1e19516ca\" y=\"83.439291\"/>\n     <use style=\"fill:#1f77b4;stroke:#1f77b4;\" x=\"284.094034\" xlink:href=\"#mc1e19516ca\" y=\"71.914734\"/>\n     <use style=\"fill:#1f77b4;stroke:#1f77b4;\" x=\"309.45767\" xlink:href=\"#mc1e19516ca\" y=\"54.902293\"/>\n     <use style=\"fill:#1f77b4;stroke:#1f77b4;\" x=\"334.821307\" xlink:href=\"#mc1e19516ca\" y=\"45.024101\"/>\n     <use style=\"fill:#1f77b4;stroke:#1f77b4;\" x=\"360.184943\" xlink:href=\"#mc1e19516ca\" y=\"20.87741\"/>\n    </g>\n   </g>\n   <g id=\"matplotlib.axis_1\">\n    <g id=\"xtick_1\">\n     <g id=\"line2d_1\">\n      <defs>\n       <path d=\"M 0 0 \nL 0 3.5 \n\" id=\"m4affda23c4\" style=\"stroke:#000000;stroke-width:0.8;\"/>\n      </defs>\n      <g>\n       <use style=\"stroke:#000000;stroke-width:0.8;\" x=\"55.821307\" xlink:href=\"#m4affda23c4\" y=\"228.433774\"/>\n      </g>\n     </g>\n     <g id=\"text_1\">\n      <!-- 0 -->\n      <defs>\n       <path d=\"M 31.78125 66.40625 \nQ 24.171875 66.40625 20.328125 58.90625 \nQ 16.5 51.421875 16.5 36.375 \nQ 16.5 21.390625 20.328125 13.890625 \nQ 24.171875 6.390625 31.78125 6.390625 \nQ 39.453125 6.390625 43.28125 13.890625 \nQ 47.125 21.390625 47.125 36.375 \nQ 47.125 51.421875 43.28125 58.90625 \nQ 39.453125 66.40625 31.78125 66.40625 \nz\nM 31.78125 74.21875 \nQ 44.046875 74.21875 50.515625 64.515625 \nQ 56.984375 54.828125 56.984375 36.375 \nQ 56.984375 17.96875 50.515625 8.265625 \nQ 44.046875 -1.421875 31.78125 -1.421875 \nQ 19.53125 -1.421875 13.0625 8.265625 \nQ 6.59375 17.96875 6.59375 36.375 \nQ 6.59375 54.828125 13.0625 64.515625 \nQ 19.53125 74.21875 31.78125 74.21875 \nz\n\" id=\"DejaVuSans-48\"/>\n      </defs>\n      <g transform=\"translate(52.640057 243.032212)scale(0.1 -0.1)\">\n       <use xlink:href=\"#DejaVuSans-48\"/>\n      </g>\n     </g>\n    </g>\n    <g id=\"xtick_2\">\n     <g id=\"line2d_2\">\n      <g>\n       <use style=\"stroke:#000000;stroke-width:0.8;\" x=\"106.54858\" xlink:href=\"#m4affda23c4\" y=\"228.433774\"/>\n      </g>\n     </g>\n     <g id=\"text_2\">\n      <!-- 2 -->\n      <defs>\n       <path d=\"M 19.1875 8.296875 \nL 53.609375 8.296875 \nL 53.609375 0 \nL 7.328125 0 \nL 7.328125 8.296875 \nQ 12.9375 14.109375 22.625 23.890625 \nQ 32.328125 33.6875 34.8125 36.53125 \nQ 39.546875 41.84375 41.421875 45.53125 \nQ 43.3125 49.21875 43.3125 52.78125 \nQ 43.3125 58.59375 39.234375 62.25 \nQ 35.15625 65.921875 28.609375 65.921875 \nQ 23.96875 65.921875 18.8125 64.3125 \nQ 13.671875 62.703125 7.8125 59.421875 \nL 7.8125 69.390625 \nQ 13.765625 71.78125 18.9375 73 \nQ 24.125 74.21875 28.421875 74.21875 \nQ 39.75 74.21875 46.484375 68.546875 \nQ 53.21875 62.890625 53.21875 53.421875 \nQ 53.21875 48.921875 51.53125 44.890625 \nQ 49.859375 40.875 45.40625 35.40625 \nQ 44.1875 33.984375 37.640625 27.21875 \nQ 31.109375 20.453125 19.1875 8.296875 \nz\n\" id=\"DejaVuSans-50\"/>\n      </defs>\n      <g transform=\"translate(103.36733 243.032212)scale(0.1 -0.1)\">\n       <use xlink:href=\"#DejaVuSans-50\"/>\n      </g>\n     </g>\n    </g>\n    <g id=\"xtick_3\">\n     <g id=\"line2d_3\">\n      <g>\n       <use style=\"stroke:#000000;stroke-width:0.8;\" x=\"157.275852\" xlink:href=\"#m4affda23c4\" y=\"228.433774\"/>\n      </g>\n     </g>\n     <g id=\"text_3\">\n      <!-- 4 -->\n      <defs>\n       <path d=\"M 37.796875 64.3125 \nL 12.890625 25.390625 \nL 37.796875 25.390625 \nz\nM 35.203125 72.90625 \nL 47.609375 72.90625 \nL 47.609375 25.390625 \nL 58.015625 25.390625 \nL 58.015625 17.1875 \nL 47.609375 17.1875 \nL 47.609375 0 \nL 37.796875 0 \nL 37.796875 17.1875 \nL 4.890625 17.1875 \nL 4.890625 26.703125 \nz\n\" id=\"DejaVuSans-52\"/>\n      </defs>\n      <g transform=\"translate(154.094602 243.032212)scale(0.1 -0.1)\">\n       <use xlink:href=\"#DejaVuSans-52\"/>\n      </g>\n     </g>\n    </g>\n    <g id=\"xtick_4\">\n     <g id=\"line2d_4\">\n      <g>\n       <use style=\"stroke:#000000;stroke-width:0.8;\" x=\"208.003125\" xlink:href=\"#m4affda23c4\" y=\"228.433774\"/>\n      </g>\n     </g>\n     <g id=\"text_4\">\n      <!-- 6 -->\n      <defs>\n       <path d=\"M 33.015625 40.375 \nQ 26.375 40.375 22.484375 35.828125 \nQ 18.609375 31.296875 18.609375 23.390625 \nQ 18.609375 15.53125 22.484375 10.953125 \nQ 26.375 6.390625 33.015625 6.390625 \nQ 39.65625 6.390625 43.53125 10.953125 \nQ 47.40625 15.53125 47.40625 23.390625 \nQ 47.40625 31.296875 43.53125 35.828125 \nQ 39.65625 40.375 33.015625 40.375 \nz\nM 52.59375 71.296875 \nL 52.59375 62.3125 \nQ 48.875 64.0625 45.09375 64.984375 \nQ 41.3125 65.921875 37.59375 65.921875 \nQ 27.828125 65.921875 22.671875 59.328125 \nQ 17.53125 52.734375 16.796875 39.40625 \nQ 19.671875 43.65625 24.015625 45.921875 \nQ 28.375 48.1875 33.59375 48.1875 \nQ 44.578125 48.1875 50.953125 41.515625 \nQ 57.328125 34.859375 57.328125 23.390625 \nQ 57.328125 12.15625 50.6875 5.359375 \nQ 44.046875 -1.421875 33.015625 -1.421875 \nQ 20.359375 -1.421875 13.671875 8.265625 \nQ 6.984375 17.96875 6.984375 36.375 \nQ 6.984375 53.65625 15.1875 63.9375 \nQ 23.390625 74.21875 37.203125 74.21875 \nQ 40.921875 74.21875 44.703125 73.484375 \nQ 48.484375 72.75 52.59375 71.296875 \nz\n\" id=\"DejaVuSans-54\"/>\n      </defs>\n      <g transform=\"translate(204.821875 243.032212)scale(0.1 -0.1)\">\n       <use xlink:href=\"#DejaVuSans-54\"/>\n      </g>\n     </g>\n    </g>\n    <g id=\"xtick_5\">\n     <g id=\"line2d_5\">\n      <g>\n       <use style=\"stroke:#000000;stroke-width:0.8;\" x=\"258.730398\" xlink:href=\"#m4affda23c4\" y=\"228.433774\"/>\n      </g>\n     </g>\n     <g id=\"text_5\">\n      <!-- 8 -->\n      <defs>\n       <path d=\"M 31.78125 34.625 \nQ 24.75 34.625 20.71875 30.859375 \nQ 16.703125 27.09375 16.703125 20.515625 \nQ 16.703125 13.921875 20.71875 10.15625 \nQ 24.75 6.390625 31.78125 6.390625 \nQ 38.8125 6.390625 42.859375 10.171875 \nQ 46.921875 13.96875 46.921875 20.515625 \nQ 46.921875 27.09375 42.890625 30.859375 \nQ 38.875 34.625 31.78125 34.625 \nz\nM 21.921875 38.8125 \nQ 15.578125 40.375 12.03125 44.71875 \nQ 8.5 49.078125 8.5 55.328125 \nQ 8.5 64.0625 14.71875 69.140625 \nQ 20.953125 74.21875 31.78125 74.21875 \nQ 42.671875 74.21875 48.875 69.140625 \nQ 55.078125 64.0625 55.078125 55.328125 \nQ 55.078125 49.078125 51.53125 44.71875 \nQ 48 40.375 41.703125 38.8125 \nQ 48.828125 37.15625 52.796875 32.3125 \nQ 56.78125 27.484375 56.78125 20.515625 \nQ 56.78125 9.90625 50.3125 4.234375 \nQ 43.84375 -1.421875 31.78125 -1.421875 \nQ 19.734375 -1.421875 13.25 4.234375 \nQ 6.78125 9.90625 6.78125 20.515625 \nQ 6.78125 27.484375 10.78125 32.3125 \nQ 14.796875 37.15625 21.921875 38.8125 \nz\nM 18.3125 54.390625 \nQ 18.3125 48.734375 21.84375 45.5625 \nQ 25.390625 42.390625 31.78125 42.390625 \nQ 38.140625 42.390625 41.71875 45.5625 \nQ 45.3125 48.734375 45.3125 54.390625 \nQ 45.3125 60.0625 41.71875 63.234375 \nQ 38.140625 66.40625 31.78125 66.40625 \nQ 25.390625 66.40625 21.84375 63.234375 \nQ 18.3125 60.0625 18.3125 54.390625 \nz\n\" id=\"DejaVuSans-56\"/>\n      </defs>\n      <g transform=\"translate(255.549148 243.032212)scale(0.1 -0.1)\">\n       <use xlink:href=\"#DejaVuSans-56\"/>\n      </g>\n     </g>\n    </g>\n    <g id=\"xtick_6\">\n     <g id=\"line2d_6\">\n      <g>\n       <use style=\"stroke:#000000;stroke-width:0.8;\" x=\"309.45767\" xlink:href=\"#m4affda23c4\" y=\"228.433774\"/>\n      </g>\n     </g>\n     <g id=\"text_6\">\n      <!-- 10 -->\n      <defs>\n       <path d=\"M 12.40625 8.296875 \nL 28.515625 8.296875 \nL 28.515625 63.921875 \nL 10.984375 60.40625 \nL 10.984375 69.390625 \nL 28.421875 72.90625 \nL 38.28125 72.90625 \nL 38.28125 8.296875 \nL 54.390625 8.296875 \nL 54.390625 0 \nL 12.40625 0 \nz\n\" id=\"DejaVuSans-49\"/>\n      </defs>\n      <g transform=\"translate(303.09517 243.032212)scale(0.1 -0.1)\">\n       <use xlink:href=\"#DejaVuSans-49\"/>\n       <use x=\"63.623047\" xlink:href=\"#DejaVuSans-48\"/>\n      </g>\n     </g>\n    </g>\n    <g id=\"xtick_7\">\n     <g id=\"line2d_7\">\n      <g>\n       <use style=\"stroke:#000000;stroke-width:0.8;\" x=\"360.184943\" xlink:href=\"#m4affda23c4\" y=\"228.433774\"/>\n      </g>\n     </g>\n     <g id=\"text_7\">\n      <!-- 12 -->\n      <g transform=\"translate(353.822443 243.032212)scale(0.1 -0.1)\">\n       <use xlink:href=\"#DejaVuSans-49\"/>\n       <use x=\"63.623047\" xlink:href=\"#DejaVuSans-50\"/>\n      </g>\n     </g>\n    </g>\n    <g id=\"text_8\">\n     <!-- feature -->\n     <defs>\n      <path d=\"M 37.109375 75.984375 \nL 37.109375 68.5 \nL 28.515625 68.5 \nQ 23.6875 68.5 21.796875 66.546875 \nQ 19.921875 64.59375 19.921875 59.515625 \nL 19.921875 54.6875 \nL 34.71875 54.6875 \nL 34.71875 47.703125 \nL 19.921875 47.703125 \nL 19.921875 0 \nL 10.890625 0 \nL 10.890625 47.703125 \nL 2.296875 47.703125 \nL 2.296875 54.6875 \nL 10.890625 54.6875 \nL 10.890625 58.5 \nQ 10.890625 67.625 15.140625 71.796875 \nQ 19.390625 75.984375 28.609375 75.984375 \nz\n\" id=\"DejaVuSans-102\"/>\n      <path d=\"M 56.203125 29.59375 \nL 56.203125 25.203125 \nL 14.890625 25.203125 \nQ 15.484375 15.921875 20.484375 11.0625 \nQ 25.484375 6.203125 34.421875 6.203125 \nQ 39.59375 6.203125 44.453125 7.46875 \nQ 49.3125 8.734375 54.109375 11.28125 \nL 54.109375 2.78125 \nQ 49.265625 0.734375 44.1875 -0.34375 \nQ 39.109375 -1.421875 33.890625 -1.421875 \nQ 20.796875 -1.421875 13.15625 6.1875 \nQ 5.515625 13.8125 5.515625 26.8125 \nQ 5.515625 40.234375 12.765625 48.109375 \nQ 20.015625 56 32.328125 56 \nQ 43.359375 56 49.78125 48.890625 \nQ 56.203125 41.796875 56.203125 29.59375 \nz\nM 47.21875 32.234375 \nQ 47.125 39.59375 43.09375 43.984375 \nQ 39.0625 48.390625 32.421875 48.390625 \nQ 24.90625 48.390625 20.390625 44.140625 \nQ 15.875 39.890625 15.1875 32.171875 \nz\n\" id=\"DejaVuSans-101\"/>\n      <path d=\"M 34.28125 27.484375 \nQ 23.390625 27.484375 19.1875 25 \nQ 14.984375 22.515625 14.984375 16.5 \nQ 14.984375 11.71875 18.140625 8.90625 \nQ 21.296875 6.109375 26.703125 6.109375 \nQ 34.1875 6.109375 38.703125 11.40625 \nQ 43.21875 16.703125 43.21875 25.484375 \nL 43.21875 27.484375 \nz\nM 52.203125 31.203125 \nL 52.203125 0 \nL 43.21875 0 \nL 43.21875 8.296875 \nQ 40.140625 3.328125 35.546875 0.953125 \nQ 30.953125 -1.421875 24.3125 -1.421875 \nQ 15.921875 -1.421875 10.953125 3.296875 \nQ 6 8.015625 6 15.921875 \nQ 6 25.140625 12.171875 29.828125 \nQ 18.359375 34.515625 30.609375 34.515625 \nL 43.21875 34.515625 \nL 43.21875 35.40625 \nQ 43.21875 41.609375 39.140625 45 \nQ 35.0625 48.390625 27.6875 48.390625 \nQ 23 48.390625 18.546875 47.265625 \nQ 14.109375 46.140625 10.015625 43.890625 \nL 10.015625 52.203125 \nQ 14.9375 54.109375 19.578125 55.046875 \nQ 24.21875 56 28.609375 56 \nQ 40.484375 56 46.34375 49.84375 \nQ 52.203125 43.703125 52.203125 31.203125 \nz\n\" id=\"DejaVuSans-97\"/>\n      <path d=\"M 18.3125 70.21875 \nL 18.3125 54.6875 \nL 36.8125 54.6875 \nL 36.8125 47.703125 \nL 18.3125 47.703125 \nL 18.3125 18.015625 \nQ 18.3125 11.328125 20.140625 9.421875 \nQ 21.96875 7.515625 27.59375 7.515625 \nL 36.8125 7.515625 \nL 36.8125 0 \nL 27.59375 0 \nQ 17.1875 0 13.234375 3.875 \nQ 9.28125 7.765625 9.28125 18.015625 \nL 9.28125 47.703125 \nL 2.6875 47.703125 \nL 2.6875 54.6875 \nL 9.28125 54.6875 \nL 9.28125 70.21875 \nz\n\" id=\"DejaVuSans-116\"/>\n      <path d=\"M 8.5 21.578125 \nL 8.5 54.6875 \nL 17.484375 54.6875 \nL 17.484375 21.921875 \nQ 17.484375 14.15625 20.5 10.265625 \nQ 23.53125 6.390625 29.59375 6.390625 \nQ 36.859375 6.390625 41.078125 11.03125 \nQ 45.3125 15.671875 45.3125 23.6875 \nL 45.3125 54.6875 \nL 54.296875 54.6875 \nL 54.296875 0 \nL 45.3125 0 \nL 45.3125 8.40625 \nQ 42.046875 3.421875 37.71875 1 \nQ 33.40625 -1.421875 27.6875 -1.421875 \nQ 18.265625 -1.421875 13.375 4.4375 \nQ 8.5 10.296875 8.5 21.578125 \nz\nM 31.109375 56 \nz\n\" id=\"DejaVuSans-117\"/>\n      <path d=\"M 41.109375 46.296875 \nQ 39.59375 47.171875 37.8125 47.578125 \nQ 36.03125 48 33.890625 48 \nQ 26.265625 48 22.1875 43.046875 \nQ 18.109375 38.09375 18.109375 28.8125 \nL 18.109375 0 \nL 9.078125 0 \nL 9.078125 54.6875 \nL 18.109375 54.6875 \nL 18.109375 46.1875 \nQ 20.953125 51.171875 25.484375 53.578125 \nQ 30.03125 56 36.53125 56 \nQ 37.453125 56 38.578125 55.875 \nQ 39.703125 55.765625 41.0625 55.515625 \nz\n\" id=\"DejaVuSans-114\"/>\n     </defs>\n     <g transform=\"translate(189.953906 256.710337)scale(0.1 -0.1)\">\n      <use xlink:href=\"#DejaVuSans-102\"/>\n      <use x=\"35.205078\" xlink:href=\"#DejaVuSans-101\"/>\n      <use x=\"96.728516\" xlink:href=\"#DejaVuSans-97\"/>\n      <use x=\"158.007812\" xlink:href=\"#DejaVuSans-116\"/>\n      <use x=\"197.216797\" xlink:href=\"#DejaVuSans-117\"/>\n      <use x=\"260.595703\" xlink:href=\"#DejaVuSans-114\"/>\n      <use x=\"299.458984\" xlink:href=\"#DejaVuSans-101\"/>\n     </g>\n    </g>\n   </g>\n   <g id=\"matplotlib.axis_2\">\n    <g id=\"ytick_1\">\n     <g id=\"line2d_8\">\n      <defs>\n       <path d=\"M 0 0 \nL -3.5 0 \n\" id=\"m907bdd478c\" style=\"stroke:#000000;stroke-width:0.8;\"/>\n      </defs>\n      <g>\n       <use style=\"stroke:#000000;stroke-width:0.8;\" x=\"40.603125\" xlink:href=\"#m907bdd478c\" y=\"203.075168\"/>\n      </g>\n     </g>\n     <g id=\"text_9\">\n      <!-- 5 -->\n      <defs>\n       <path d=\"M 10.796875 72.90625 \nL 49.515625 72.90625 \nL 49.515625 64.59375 \nL 19.828125 64.59375 \nL 19.828125 46.734375 \nQ 21.96875 47.46875 24.109375 47.828125 \nQ 26.265625 48.1875 28.421875 48.1875 \nQ 40.625 48.1875 47.75 41.5 \nQ 54.890625 34.8125 54.890625 23.390625 \nQ 54.890625 11.625 47.5625 5.09375 \nQ 40.234375 -1.421875 26.90625 -1.421875 \nQ 22.3125 -1.421875 17.546875 -0.640625 \nQ 12.796875 0.140625 7.71875 1.703125 \nL 7.71875 11.625 \nQ 12.109375 9.234375 16.796875 8.0625 \nQ 21.484375 6.890625 26.703125 6.890625 \nQ 35.15625 6.890625 40.078125 11.328125 \nQ 45.015625 15.765625 45.015625 23.390625 \nQ 45.015625 31 40.078125 35.4375 \nQ 35.15625 39.890625 26.703125 39.890625 \nQ 22.75 39.890625 18.8125 39.015625 \nQ 14.890625 38.140625 10.796875 36.28125 \nz\n\" id=\"DejaVuSans-53\"/>\n      </defs>\n      <g transform=\"translate(27.240625 206.874387)scale(0.1 -0.1)\">\n       <use xlink:href=\"#DejaVuSans-53\"/>\n      </g>\n     </g>\n    </g>\n    <g id=\"ytick_2\">\n     <g id=\"line2d_9\">\n      <g>\n       <use style=\"stroke:#000000;stroke-width:0.8;\" x=\"40.603125\" xlink:href=\"#m907bdd478c\" y=\"175.635747\"/>\n      </g>\n     </g>\n     <g id=\"text_10\">\n      <!-- 10 -->\n      <g transform=\"translate(20.878125 179.434965)scale(0.1 -0.1)\">\n       <use xlink:href=\"#DejaVuSans-49\"/>\n       <use x=\"63.623047\" xlink:href=\"#DejaVuSans-48\"/>\n      </g>\n     </g>\n    </g>\n    <g id=\"ytick_3\">\n     <g id=\"line2d_10\">\n      <g>\n       <use style=\"stroke:#000000;stroke-width:0.8;\" x=\"40.603125\" xlink:href=\"#m907bdd478c\" y=\"148.196325\"/>\n      </g>\n     </g>\n     <g id=\"text_11\">\n      <!-- 15 -->\n      <g transform=\"translate(20.878125 151.995544)scale(0.1 -0.1)\">\n       <use xlink:href=\"#DejaVuSans-49\"/>\n       <use x=\"63.623047\" xlink:href=\"#DejaVuSans-53\"/>\n      </g>\n     </g>\n    </g>\n    <g id=\"ytick_4\">\n     <g id=\"line2d_11\">\n      <g>\n       <use style=\"stroke:#000000;stroke-width:0.8;\" x=\"40.603125\" xlink:href=\"#m907bdd478c\" y=\"120.756904\"/>\n      </g>\n     </g>\n     <g id=\"text_12\">\n      <!-- 20 -->\n      <g transform=\"translate(20.878125 124.556123)scale(0.1 -0.1)\">\n       <use xlink:href=\"#DejaVuSans-50\"/>\n       <use x=\"63.623047\" xlink:href=\"#DejaVuSans-48\"/>\n      </g>\n     </g>\n    </g>\n    <g id=\"ytick_5\">\n     <g id=\"line2d_12\">\n      <g>\n       <use style=\"stroke:#000000;stroke-width:0.8;\" x=\"40.603125\" xlink:href=\"#m907bdd478c\" y=\"93.317483\"/>\n      </g>\n     </g>\n     <g id=\"text_13\">\n      <!-- 25 -->\n      <g transform=\"translate(20.878125 97.116701)scale(0.1 -0.1)\">\n       <use xlink:href=\"#DejaVuSans-50\"/>\n       <use x=\"63.623047\" xlink:href=\"#DejaVuSans-53\"/>\n      </g>\n     </g>\n    </g>\n    <g id=\"ytick_6\">\n     <g id=\"line2d_13\">\n      <g>\n       <use style=\"stroke:#000000;stroke-width:0.8;\" x=\"40.603125\" xlink:href=\"#m907bdd478c\" y=\"65.878061\"/>\n      </g>\n     </g>\n     <g id=\"text_14\">\n      <!-- 30 -->\n      <defs>\n       <path d=\"M 40.578125 39.3125 \nQ 47.65625 37.796875 51.625 33 \nQ 55.609375 28.21875 55.609375 21.1875 \nQ 55.609375 10.40625 48.1875 4.484375 \nQ 40.765625 -1.421875 27.09375 -1.421875 \nQ 22.515625 -1.421875 17.65625 -0.515625 \nQ 12.796875 0.390625 7.625 2.203125 \nL 7.625 11.71875 \nQ 11.71875 9.328125 16.59375 8.109375 \nQ 21.484375 6.890625 26.8125 6.890625 \nQ 36.078125 6.890625 40.9375 10.546875 \nQ 45.796875 14.203125 45.796875 21.1875 \nQ 45.796875 27.640625 41.28125 31.265625 \nQ 36.765625 34.90625 28.71875 34.90625 \nL 20.21875 34.90625 \nL 20.21875 43.015625 \nL 29.109375 43.015625 \nQ 36.375 43.015625 40.234375 45.921875 \nQ 44.09375 48.828125 44.09375 54.296875 \nQ 44.09375 59.90625 40.109375 62.90625 \nQ 36.140625 65.921875 28.71875 65.921875 \nQ 24.65625 65.921875 20.015625 65.03125 \nQ 15.375 64.15625 9.8125 62.3125 \nL 9.8125 71.09375 \nQ 15.4375 72.65625 20.34375 73.4375 \nQ 25.25 74.21875 29.59375 74.21875 \nQ 40.828125 74.21875 47.359375 69.109375 \nQ 53.90625 64.015625 53.90625 55.328125 \nQ 53.90625 49.265625 50.4375 45.09375 \nQ 46.96875 40.921875 40.578125 39.3125 \nz\n\" id=\"DejaVuSans-51\"/>\n      </defs>\n      <g transform=\"translate(20.878125 69.67728)scale(0.1 -0.1)\">\n       <use xlink:href=\"#DejaVuSans-51\"/>\n       <use x=\"63.623047\" xlink:href=\"#DejaVuSans-48\"/>\n      </g>\n     </g>\n    </g>\n    <g id=\"ytick_7\">\n     <g id=\"line2d_14\">\n      <g>\n       <use style=\"stroke:#000000;stroke-width:0.8;\" x=\"40.603125\" xlink:href=\"#m907bdd478c\" y=\"38.43864\"/>\n      </g>\n     </g>\n     <g id=\"text_15\">\n      <!-- 35 -->\n      <g transform=\"translate(20.878125 42.237859)scale(0.1 -0.1)\">\n       <use xlink:href=\"#DejaVuSans-51\"/>\n       <use x=\"63.623047\" xlink:href=\"#DejaVuSans-53\"/>\n      </g>\n     </g>\n    </g>\n    <g id=\"ytick_8\">\n     <g id=\"line2d_15\">\n      <g>\n       <use style=\"stroke:#000000;stroke-width:0.8;\" x=\"40.603125\" xlink:href=\"#m907bdd478c\" y=\"10.999219\"/>\n      </g>\n     </g>\n     <g id=\"text_16\">\n      <!-- 40 -->\n      <g transform=\"translate(20.878125 14.798437)scale(0.1 -0.1)\">\n       <use xlink:href=\"#DejaVuSans-52\"/>\n       <use x=\"63.623047\" xlink:href=\"#DejaVuSans-48\"/>\n      </g>\n     </g>\n    </g>\n    <g id=\"text_17\">\n     <!-- label -->\n     <defs>\n      <path d=\"M 9.421875 75.984375 \nL 18.40625 75.984375 \nL 18.40625 0 \nL 9.421875 0 \nz\n\" id=\"DejaVuSans-108\"/>\n      <path d=\"M 48.6875 27.296875 \nQ 48.6875 37.203125 44.609375 42.84375 \nQ 40.53125 48.484375 33.40625 48.484375 \nQ 26.265625 48.484375 22.1875 42.84375 \nQ 18.109375 37.203125 18.109375 27.296875 \nQ 18.109375 17.390625 22.1875 11.75 \nQ 26.265625 6.109375 33.40625 6.109375 \nQ 40.53125 6.109375 44.609375 11.75 \nQ 48.6875 17.390625 48.6875 27.296875 \nz\nM 18.109375 46.390625 \nQ 20.953125 51.265625 25.265625 53.625 \nQ 29.59375 56 35.59375 56 \nQ 45.5625 56 51.78125 48.09375 \nQ 58.015625 40.1875 58.015625 27.296875 \nQ 58.015625 14.40625 51.78125 6.484375 \nQ 45.5625 -1.421875 35.59375 -1.421875 \nQ 29.59375 -1.421875 25.265625 0.953125 \nQ 20.953125 3.328125 18.109375 8.203125 \nL 18.109375 0 \nL 9.078125 0 \nL 9.078125 75.984375 \nL 18.109375 75.984375 \nz\n\" id=\"DejaVuSans-98\"/>\n     </defs>\n     <g transform=\"translate(14.798438 131.806743)rotate(-90)scale(0.1 -0.1)\">\n      <use xlink:href=\"#DejaVuSans-108\"/>\n      <use x=\"27.783203\" xlink:href=\"#DejaVuSans-97\"/>\n      <use x=\"89.0625\" xlink:href=\"#DejaVuSans-98\"/>\n      <use x=\"152.539062\" xlink:href=\"#DejaVuSans-101\"/>\n      <use x=\"214.0625\" xlink:href=\"#DejaVuSans-108\"/>\n     </g>\n    </g>\n   </g>\n   <g id=\"line2d_16\">\n    <path clip-path=\"url(#p4598417330)\" d=\"M 55.821307 218.550138 \nL 360.184943 23.721604 \n\" style=\"fill:none;stroke:#ff0000;stroke-linecap:square;stroke-width:1.5;\"/>\n   </g>\n   <g id=\"patch_3\">\n    <path d=\"M 40.603125 228.433774 \nL 40.603125 10.993774 \n\" style=\"fill:none;stroke:#000000;stroke-linecap:square;stroke-linejoin:miter;stroke-width:0.8;\"/>\n   </g>\n   <g id=\"patch_4\">\n    <path d=\"M 375.403125 228.433774 \nL 375.403125 10.993774 \n\" style=\"fill:none;stroke:#000000;stroke-linecap:square;stroke-linejoin:miter;stroke-width:0.8;\"/>\n   </g>\n   <g id=\"patch_5\">\n    <path d=\"M 40.603125 228.433774 \nL 375.403125 228.433774 \n\" style=\"fill:none;stroke:#000000;stroke-linecap:square;stroke-linejoin:miter;stroke-width:0.8;\"/>\n   </g>\n   <g id=\"patch_6\">\n    <path d=\"M 40.603125 10.993774 \nL 375.403125 10.993774 \n\" style=\"fill:none;stroke:#000000;stroke-linecap:square;stroke-linejoin:miter;stroke-width:0.8;\"/>\n   </g>\n  </g>\n </g>\n <defs>\n  <clipPath id=\"p4598417330\">\n   <rect height=\"217.44\" width=\"334.8\" x=\"40.603125\" y=\"10.993774\"/>\n  </clipPath>\n </defs>\n</svg>\n",
            "image/png": "[encoded data removed]"
          },
          "metadata": {
            "needs_background": "light"
          }
        },
        {
          "output_type": "display_data",
          "data": {
            "text/plain": "<Figure size 432x288 with 1 Axes>",
            "image/svg+xml": "<?xml version=\"1.0\" encoding=\"utf-8\" standalone=\"no\"?>\n<!DOCTYPE svg PUBLIC \"-//W3C//DTD SVG 1.1//EN\"\n  \"http://www.w3.org/Graphics/SVG/1.1/DTD/svg11.dtd\">\n<!-- Created with matplotlib (https://matplotlib.org/) -->\n<svg height=\"262.19625pt\" version=\"1.1\" viewBox=\"0 0 392.14375 262.19625\" width=\"392.14375pt\" xmlns=\"http://www.w3.org/2000/svg\" xmlns:xlink=\"http://www.w3.org/1999/xlink\">\n <defs>\n  <style type=\"text/css\">\n*{stroke-linecap:butt;stroke-linejoin:round;}\n  </style>\n </defs>\n <g id=\"figure_1\">\n  <g id=\"patch_1\">\n   <path d=\"M 0 262.19625 \nL 392.14375 262.19625 \nL 392.14375 0 \nL 0 0 \nz\n\" style=\"fill:none;\"/>\n  </g>\n  <g id=\"axes_1\">\n   <g id=\"patch_2\">\n    <path d=\"M 50.14375 224.64 \nL 384.94375 224.64 \nL 384.94375 7.2 \nL 50.14375 7.2 \nz\n\" style=\"fill:#ffffff;\"/>\n   </g>\n   <g id=\"matplotlib.axis_1\">\n    <g id=\"xtick_1\">\n     <g id=\"line2d_1\">\n      <defs>\n       <path d=\"M 0 0 \nL 0 3.5 \n\" id=\"maa15f0ceb3\" style=\"stroke:#000000;stroke-width:0.8;\"/>\n      </defs>\n      <g>\n       <use style=\"stroke:#000000;stroke-width:0.8;\" x=\"65.361932\" xlink:href=\"#maa15f0ceb3\" y=\"224.64\"/>\n      </g>\n     </g>\n     <g id=\"text_1\">\n      <!-- 0 -->\n      <defs>\n       <path d=\"M 31.78125 66.40625 \nQ 24.171875 66.40625 20.328125 58.90625 \nQ 16.5 51.421875 16.5 36.375 \nQ 16.5 21.390625 20.328125 13.890625 \nQ 24.171875 6.390625 31.78125 6.390625 \nQ 39.453125 6.390625 43.28125 13.890625 \nQ 47.125 21.390625 47.125 36.375 \nQ 47.125 51.421875 43.28125 58.90625 \nQ 39.453125 66.40625 31.78125 66.40625 \nz\nM 31.78125 74.21875 \nQ 44.046875 74.21875 50.515625 64.515625 \nQ 56.984375 54.828125 56.984375 36.375 \nQ 56.984375 17.96875 50.515625 8.265625 \nQ 44.046875 -1.421875 31.78125 -1.421875 \nQ 19.53125 -1.421875 13.0625 8.265625 \nQ 6.59375 17.96875 6.59375 36.375 \nQ 6.59375 54.828125 13.0625 64.515625 \nQ 19.53125 74.21875 31.78125 74.21875 \nz\n\" id=\"DejaVuSans-48\"/>\n      </defs>\n      <g transform=\"translate(62.180682 239.238438)scale(0.1 -0.1)\">\n       <use xlink:href=\"#DejaVuSans-48\"/>\n      </g>\n     </g>\n    </g>\n    <g id=\"xtick_2\">\n     <g id=\"line2d_2\">\n      <g>\n       <use style=\"stroke:#000000;stroke-width:0.8;\" x=\"126.295593\" xlink:href=\"#maa15f0ceb3\" y=\"224.64\"/>\n      </g>\n     </g>\n     <g id=\"text_2\">\n      <!-- 200 -->\n      <defs>\n       <path d=\"M 19.1875 8.296875 \nL 53.609375 8.296875 \nL 53.609375 0 \nL 7.328125 0 \nL 7.328125 8.296875 \nQ 12.9375 14.109375 22.625 23.890625 \nQ 32.328125 33.6875 34.8125 36.53125 \nQ 39.546875 41.84375 41.421875 45.53125 \nQ 43.3125 49.21875 43.3125 52.78125 \nQ 43.3125 58.59375 39.234375 62.25 \nQ 35.15625 65.921875 28.609375 65.921875 \nQ 23.96875 65.921875 18.8125 64.3125 \nQ 13.671875 62.703125 7.8125 59.421875 \nL 7.8125 69.390625 \nQ 13.765625 71.78125 18.9375 73 \nQ 24.125 74.21875 28.421875 74.21875 \nQ 39.75 74.21875 46.484375 68.546875 \nQ 53.21875 62.890625 53.21875 53.421875 \nQ 53.21875 48.921875 51.53125 44.890625 \nQ 49.859375 40.875 45.40625 35.40625 \nQ 44.1875 33.984375 37.640625 27.21875 \nQ 31.109375 20.453125 19.1875 8.296875 \nz\n\" id=\"DejaVuSans-50\"/>\n      </defs>\n      <g transform=\"translate(116.751843 239.238438)scale(0.1 -0.1)\">\n       <use xlink:href=\"#DejaVuSans-50\"/>\n       <use x=\"63.623047\" xlink:href=\"#DejaVuSans-48\"/>\n       <use x=\"127.246094\" xlink:href=\"#DejaVuSans-48\"/>\n      </g>\n     </g>\n    </g>\n    <g id=\"xtick_3\">\n     <g id=\"line2d_3\">\n      <g>\n       <use style=\"stroke:#000000;stroke-width:0.8;\" x=\"187.229254\" xlink:href=\"#maa15f0ceb3\" y=\"224.64\"/>\n      </g>\n     </g>\n     <g id=\"text_3\">\n      <!-- 400 -->\n      <defs>\n       <path d=\"M 37.796875 64.3125 \nL 12.890625 25.390625 \nL 37.796875 25.390625 \nz\nM 35.203125 72.90625 \nL 47.609375 72.90625 \nL 47.609375 25.390625 \nL 58.015625 25.390625 \nL 58.015625 17.1875 \nL 47.609375 17.1875 \nL 47.609375 0 \nL 37.796875 0 \nL 37.796875 17.1875 \nL 4.890625 17.1875 \nL 4.890625 26.703125 \nz\n\" id=\"DejaVuSans-52\"/>\n      </defs>\n      <g transform=\"translate(177.685504 239.238438)scale(0.1 -0.1)\">\n       <use xlink:href=\"#DejaVuSans-52\"/>\n       <use x=\"63.623047\" xlink:href=\"#DejaVuSans-48\"/>\n       <use x=\"127.246094\" xlink:href=\"#DejaVuSans-48\"/>\n      </g>\n     </g>\n    </g>\n    <g id=\"xtick_4\">\n     <g id=\"line2d_4\">\n      <g>\n       <use style=\"stroke:#000000;stroke-width:0.8;\" x=\"248.162915\" xlink:href=\"#maa15f0ceb3\" y=\"224.64\"/>\n      </g>\n     </g>\n     <g id=\"text_4\">\n      <!-- 600 -->\n      <defs>\n       <path d=\"M 33.015625 40.375 \nQ 26.375 40.375 22.484375 35.828125 \nQ 18.609375 31.296875 18.609375 23.390625 \nQ 18.609375 15.53125 22.484375 10.953125 \nQ 26.375 6.390625 33.015625 6.390625 \nQ 39.65625 6.390625 43.53125 10.953125 \nQ 47.40625 15.53125 47.40625 23.390625 \nQ 47.40625 31.296875 43.53125 35.828125 \nQ 39.65625 40.375 33.015625 40.375 \nz\nM 52.59375 71.296875 \nL 52.59375 62.3125 \nQ 48.875 64.0625 45.09375 64.984375 \nQ 41.3125 65.921875 37.59375 65.921875 \nQ 27.828125 65.921875 22.671875 59.328125 \nQ 17.53125 52.734375 16.796875 39.40625 \nQ 19.671875 43.65625 24.015625 45.921875 \nQ 28.375 48.1875 33.59375 48.1875 \nQ 44.578125 48.1875 50.953125 41.515625 \nQ 57.328125 34.859375 57.328125 23.390625 \nQ 57.328125 12.15625 50.6875 5.359375 \nQ 44.046875 -1.421875 33.015625 -1.421875 \nQ 20.359375 -1.421875 13.671875 8.265625 \nQ 6.984375 17.96875 6.984375 36.375 \nQ 6.984375 53.65625 15.1875 63.9375 \nQ 23.390625 74.21875 37.203125 74.21875 \nQ 40.921875 74.21875 44.703125 73.484375 \nQ 48.484375 72.75 52.59375 71.296875 \nz\n\" id=\"DejaVuSans-54\"/>\n      </defs>\n      <g transform=\"translate(238.619165 239.238438)scale(0.1 -0.1)\">\n       <use xlink:href=\"#DejaVuSans-54\"/>\n       <use x=\"63.623047\" xlink:href=\"#DejaVuSans-48\"/>\n       <use x=\"127.246094\" xlink:href=\"#DejaVuSans-48\"/>\n      </g>\n     </g>\n    </g>\n    <g id=\"xtick_5\">\n     <g id=\"line2d_5\">\n      <g>\n       <use style=\"stroke:#000000;stroke-width:0.8;\" x=\"309.096576\" xlink:href=\"#maa15f0ceb3\" y=\"224.64\"/>\n      </g>\n     </g>\n     <g id=\"text_5\">\n      <!-- 800 -->\n      <defs>\n       <path d=\"M 31.78125 34.625 \nQ 24.75 34.625 20.71875 30.859375 \nQ 16.703125 27.09375 16.703125 20.515625 \nQ 16.703125 13.921875 20.71875 10.15625 \nQ 24.75 6.390625 31.78125 6.390625 \nQ 38.8125 6.390625 42.859375 10.171875 \nQ 46.921875 13.96875 46.921875 20.515625 \nQ 46.921875 27.09375 42.890625 30.859375 \nQ 38.875 34.625 31.78125 34.625 \nz\nM 21.921875 38.8125 \nQ 15.578125 40.375 12.03125 44.71875 \nQ 8.5 49.078125 8.5 55.328125 \nQ 8.5 64.0625 14.71875 69.140625 \nQ 20.953125 74.21875 31.78125 74.21875 \nQ 42.671875 74.21875 48.875 69.140625 \nQ 55.078125 64.0625 55.078125 55.328125 \nQ 55.078125 49.078125 51.53125 44.71875 \nQ 48 40.375 41.703125 38.8125 \nQ 48.828125 37.15625 52.796875 32.3125 \nQ 56.78125 27.484375 56.78125 20.515625 \nQ 56.78125 9.90625 50.3125 4.234375 \nQ 43.84375 -1.421875 31.78125 -1.421875 \nQ 19.734375 -1.421875 13.25 4.234375 \nQ 6.78125 9.90625 6.78125 20.515625 \nQ 6.78125 27.484375 10.78125 32.3125 \nQ 14.796875 37.15625 21.921875 38.8125 \nz\nM 18.3125 54.390625 \nQ 18.3125 48.734375 21.84375 45.5625 \nQ 25.390625 42.390625 31.78125 42.390625 \nQ 38.140625 42.390625 41.71875 45.5625 \nQ 45.3125 48.734375 45.3125 54.390625 \nQ 45.3125 60.0625 41.71875 63.234375 \nQ 38.140625 66.40625 31.78125 66.40625 \nQ 25.390625 66.40625 21.84375 63.234375 \nQ 18.3125 60.0625 18.3125 54.390625 \nz\n\" id=\"DejaVuSans-56\"/>\n      </defs>\n      <g transform=\"translate(299.552826 239.238438)scale(0.1 -0.1)\">\n       <use xlink:href=\"#DejaVuSans-56\"/>\n       <use x=\"63.623047\" xlink:href=\"#DejaVuSans-48\"/>\n       <use x=\"127.246094\" xlink:href=\"#DejaVuSans-48\"/>\n      </g>\n     </g>\n    </g>\n    <g id=\"xtick_6\">\n     <g id=\"line2d_6\">\n      <g>\n       <use style=\"stroke:#000000;stroke-width:0.8;\" x=\"370.030236\" xlink:href=\"#maa15f0ceb3\" y=\"224.64\"/>\n      </g>\n     </g>\n     <g id=\"text_6\">\n      <!-- 1000 -->\n      <defs>\n       <path d=\"M 12.40625 8.296875 \nL 28.515625 8.296875 \nL 28.515625 63.921875 \nL 10.984375 60.40625 \nL 10.984375 69.390625 \nL 28.421875 72.90625 \nL 38.28125 72.90625 \nL 38.28125 8.296875 \nL 54.390625 8.296875 \nL 54.390625 0 \nL 12.40625 0 \nz\n\" id=\"DejaVuSans-49\"/>\n      </defs>\n      <g transform=\"translate(357.305236 239.238438)scale(0.1 -0.1)\">\n       <use xlink:href=\"#DejaVuSans-49\"/>\n       <use x=\"63.623047\" xlink:href=\"#DejaVuSans-48\"/>\n       <use x=\"127.246094\" xlink:href=\"#DejaVuSans-48\"/>\n       <use x=\"190.869141\" xlink:href=\"#DejaVuSans-48\"/>\n      </g>\n     </g>\n    </g>\n    <g id=\"text_7\">\n     <!-- Epoch -->\n     <defs>\n      <path d=\"M 9.8125 72.90625 \nL 55.90625 72.90625 \nL 55.90625 64.59375 \nL 19.671875 64.59375 \nL 19.671875 43.015625 \nL 54.390625 43.015625 \nL 54.390625 34.71875 \nL 19.671875 34.71875 \nL 19.671875 8.296875 \nL 56.78125 8.296875 \nL 56.78125 0 \nL 9.8125 0 \nz\n\" id=\"DejaVuSans-69\"/>\n      <path d=\"M 18.109375 8.203125 \nL 18.109375 -20.796875 \nL 9.078125 -20.796875 \nL 9.078125 54.6875 \nL 18.109375 54.6875 \nL 18.109375 46.390625 \nQ 20.953125 51.265625 25.265625 53.625 \nQ 29.59375 56 35.59375 56 \nQ 45.5625 56 51.78125 48.09375 \nQ 58.015625 40.1875 58.015625 27.296875 \nQ 58.015625 14.40625 51.78125 6.484375 \nQ 45.5625 -1.421875 35.59375 -1.421875 \nQ 29.59375 -1.421875 25.265625 0.953125 \nQ 20.953125 3.328125 18.109375 8.203125 \nz\nM 48.6875 27.296875 \nQ 48.6875 37.203125 44.609375 42.84375 \nQ 40.53125 48.484375 33.40625 48.484375 \nQ 26.265625 48.484375 22.1875 42.84375 \nQ 18.109375 37.203125 18.109375 27.296875 \nQ 18.109375 17.390625 22.1875 11.75 \nQ 26.265625 6.109375 33.40625 6.109375 \nQ 40.53125 6.109375 44.609375 11.75 \nQ 48.6875 17.390625 48.6875 27.296875 \nz\n\" id=\"DejaVuSans-112\"/>\n      <path d=\"M 30.609375 48.390625 \nQ 23.390625 48.390625 19.1875 42.75 \nQ 14.984375 37.109375 14.984375 27.296875 \nQ 14.984375 17.484375 19.15625 11.84375 \nQ 23.34375 6.203125 30.609375 6.203125 \nQ 37.796875 6.203125 41.984375 11.859375 \nQ 46.1875 17.53125 46.1875 27.296875 \nQ 46.1875 37.015625 41.984375 42.703125 \nQ 37.796875 48.390625 30.609375 48.390625 \nz\nM 30.609375 56 \nQ 42.328125 56 49.015625 48.375 \nQ 55.71875 40.765625 55.71875 27.296875 \nQ 55.71875 13.875 49.015625 6.21875 \nQ 42.328125 -1.421875 30.609375 -1.421875 \nQ 18.84375 -1.421875 12.171875 6.21875 \nQ 5.515625 13.875 5.515625 27.296875 \nQ 5.515625 40.765625 12.171875 48.375 \nQ 18.84375 56 30.609375 56 \nz\n\" id=\"DejaVuSans-111\"/>\n      <path d=\"M 48.78125 52.59375 \nL 48.78125 44.1875 \nQ 44.96875 46.296875 41.140625 47.34375 \nQ 37.3125 48.390625 33.40625 48.390625 \nQ 24.65625 48.390625 19.8125 42.84375 \nQ 14.984375 37.3125 14.984375 27.296875 \nQ 14.984375 17.28125 19.8125 11.734375 \nQ 24.65625 6.203125 33.40625 6.203125 \nQ 37.3125 6.203125 41.140625 7.25 \nQ 44.96875 8.296875 48.78125 10.40625 \nL 48.78125 2.09375 \nQ 45.015625 0.34375 40.984375 -0.53125 \nQ 36.96875 -1.421875 32.421875 -1.421875 \nQ 20.0625 -1.421875 12.78125 6.34375 \nQ 5.515625 14.109375 5.515625 27.296875 \nQ 5.515625 40.671875 12.859375 48.328125 \nQ 20.21875 56 33.015625 56 \nQ 37.15625 56 41.109375 55.140625 \nQ 45.0625 54.296875 48.78125 52.59375 \nz\n\" id=\"DejaVuSans-99\"/>\n      <path d=\"M 54.890625 33.015625 \nL 54.890625 0 \nL 45.90625 0 \nL 45.90625 32.71875 \nQ 45.90625 40.484375 42.875 44.328125 \nQ 39.84375 48.1875 33.796875 48.1875 \nQ 26.515625 48.1875 22.3125 43.546875 \nQ 18.109375 38.921875 18.109375 30.90625 \nL 18.109375 0 \nL 9.078125 0 \nL 9.078125 75.984375 \nL 18.109375 75.984375 \nL 18.109375 46.1875 \nQ 21.34375 51.125 25.703125 53.5625 \nQ 30.078125 56 35.796875 56 \nQ 45.21875 56 50.046875 50.171875 \nQ 54.890625 44.34375 54.890625 33.015625 \nz\n\" id=\"DejaVuSans-104\"/>\n     </defs>\n     <g transform=\"translate(202.232813 252.916563)scale(0.1 -0.1)\">\n      <use xlink:href=\"#DejaVuSans-69\"/>\n      <use x=\"63.183594\" xlink:href=\"#DejaVuSans-112\"/>\n      <use x=\"126.660156\" xlink:href=\"#DejaVuSans-111\"/>\n      <use x=\"187.841797\" xlink:href=\"#DejaVuSans-99\"/>\n      <use x=\"242.822266\" xlink:href=\"#DejaVuSans-104\"/>\n     </g>\n    </g>\n   </g>\n   <g id=\"matplotlib.axis_2\">\n    <g id=\"ytick_1\">\n     <g id=\"line2d_7\">\n      <defs>\n       <path d=\"M 0 0 \nL -3.5 0 \n\" id=\"m7556577688\" style=\"stroke:#000000;stroke-width:0.8;\"/>\n      </defs>\n      <g>\n       <use style=\"stroke:#000000;stroke-width:0.8;\" x=\"50.14375\" xlink:href=\"#m7556577688\" y=\"207.43453\"/>\n      </g>\n     </g>\n     <g id=\"text_8\">\n      <!-- 2.5 -->\n      <defs>\n       <path d=\"M 10.6875 12.40625 \nL 21 12.40625 \nL 21 0 \nL 10.6875 0 \nz\n\" id=\"DejaVuSans-46\"/>\n       <path d=\"M 10.796875 72.90625 \nL 49.515625 72.90625 \nL 49.515625 64.59375 \nL 19.828125 64.59375 \nL 19.828125 46.734375 \nQ 21.96875 47.46875 24.109375 47.828125 \nQ 26.265625 48.1875 28.421875 48.1875 \nQ 40.625 48.1875 47.75 41.5 \nQ 54.890625 34.8125 54.890625 23.390625 \nQ 54.890625 11.625 47.5625 5.09375 \nQ 40.234375 -1.421875 26.90625 -1.421875 \nQ 22.3125 -1.421875 17.546875 -0.640625 \nQ 12.796875 0.140625 7.71875 1.703125 \nL 7.71875 11.625 \nQ 12.109375 9.234375 16.796875 8.0625 \nQ 21.484375 6.890625 26.703125 6.890625 \nQ 35.15625 6.890625 40.078125 11.328125 \nQ 45.015625 15.765625 45.015625 23.390625 \nQ 45.015625 31 40.078125 35.4375 \nQ 35.15625 39.890625 26.703125 39.890625 \nQ 22.75 39.890625 18.8125 39.015625 \nQ 14.890625 38.140625 10.796875 36.28125 \nz\n\" id=\"DejaVuSans-53\"/>\n      </defs>\n      <g transform=\"translate(27.240625 211.233749)scale(0.1 -0.1)\">\n       <use xlink:href=\"#DejaVuSans-50\"/>\n       <use x=\"63.623047\" xlink:href=\"#DejaVuSans-46\"/>\n       <use x=\"95.410156\" xlink:href=\"#DejaVuSans-53\"/>\n      </g>\n     </g>\n    </g>\n    <g id=\"ytick_2\">\n     <g id=\"line2d_8\">\n      <g>\n       <use style=\"stroke:#000000;stroke-width:0.8;\" x=\"50.14375\" xlink:href=\"#m7556577688\" y=\"180.424968\"/>\n      </g>\n     </g>\n     <g id=\"text_9\">\n      <!-- 5.0 -->\n      <g transform=\"translate(27.240625 184.224186)scale(0.1 -0.1)\">\n       <use xlink:href=\"#DejaVuSans-53\"/>\n       <use x=\"63.623047\" xlink:href=\"#DejaVuSans-46\"/>\n       <use x=\"95.410156\" xlink:href=\"#DejaVuSans-48\"/>\n      </g>\n     </g>\n    </g>\n    <g id=\"ytick_3\">\n     <g id=\"line2d_9\">\n      <g>\n       <use style=\"stroke:#000000;stroke-width:0.8;\" x=\"50.14375\" xlink:href=\"#m7556577688\" y=\"153.415405\"/>\n      </g>\n     </g>\n     <g id=\"text_10\">\n      <!-- 7.5 -->\n      <defs>\n       <path d=\"M 8.203125 72.90625 \nL 55.078125 72.90625 \nL 55.078125 68.703125 \nL 28.609375 0 \nL 18.3125 0 \nL 43.21875 64.59375 \nL 8.203125 64.59375 \nz\n\" id=\"DejaVuSans-55\"/>\n      </defs>\n      <g transform=\"translate(27.240625 157.214624)scale(0.1 -0.1)\">\n       <use xlink:href=\"#DejaVuSans-55\"/>\n       <use x=\"63.623047\" xlink:href=\"#DejaVuSans-46\"/>\n       <use x=\"95.410156\" xlink:href=\"#DejaVuSans-53\"/>\n      </g>\n     </g>\n    </g>\n    <g id=\"ytick_4\">\n     <g id=\"line2d_10\">\n      <g>\n       <use style=\"stroke:#000000;stroke-width:0.8;\" x=\"50.14375\" xlink:href=\"#m7556577688\" y=\"126.405843\"/>\n      </g>\n     </g>\n     <g id=\"text_11\">\n      <!-- 10.0 -->\n      <g transform=\"translate(20.878125 130.205062)scale(0.1 -0.1)\">\n       <use xlink:href=\"#DejaVuSans-49\"/>\n       <use x=\"63.623047\" xlink:href=\"#DejaVuSans-48\"/>\n       <use x=\"127.246094\" xlink:href=\"#DejaVuSans-46\"/>\n       <use x=\"159.033203\" xlink:href=\"#DejaVuSans-48\"/>\n      </g>\n     </g>\n    </g>\n    <g id=\"ytick_5\">\n     <g id=\"line2d_11\">\n      <g>\n       <use style=\"stroke:#000000;stroke-width:0.8;\" x=\"50.14375\" xlink:href=\"#m7556577688\" y=\"99.396281\"/>\n      </g>\n     </g>\n     <g id=\"text_12\">\n      <!-- 12.5 -->\n      <g transform=\"translate(20.878125 103.1955)scale(0.1 -0.1)\">\n       <use xlink:href=\"#DejaVuSans-49\"/>\n       <use x=\"63.623047\" xlink:href=\"#DejaVuSans-50\"/>\n       <use x=\"127.246094\" xlink:href=\"#DejaVuSans-46\"/>\n       <use x=\"159.033203\" xlink:href=\"#DejaVuSans-53\"/>\n      </g>\n     </g>\n    </g>\n    <g id=\"ytick_6\">\n     <g id=\"line2d_12\">\n      <g>\n       <use style=\"stroke:#000000;stroke-width:0.8;\" x=\"50.14375\" xlink:href=\"#m7556577688\" y=\"72.386719\"/>\n      </g>\n     </g>\n     <g id=\"text_13\">\n      <!-- 15.0 -->\n      <g transform=\"translate(20.878125 76.185937)scale(0.1 -0.1)\">\n       <use xlink:href=\"#DejaVuSans-49\"/>\n       <use x=\"63.623047\" xlink:href=\"#DejaVuSans-53\"/>\n       <use x=\"127.246094\" xlink:href=\"#DejaVuSans-46\"/>\n       <use x=\"159.033203\" xlink:href=\"#DejaVuSans-48\"/>\n      </g>\n     </g>\n    </g>\n    <g id=\"ytick_7\">\n     <g id=\"line2d_13\">\n      <g>\n       <use style=\"stroke:#000000;stroke-width:0.8;\" x=\"50.14375\" xlink:href=\"#m7556577688\" y=\"45.377156\"/>\n      </g>\n     </g>\n     <g id=\"text_14\">\n      <!-- 17.5 -->\n      <g transform=\"translate(20.878125 49.176375)scale(0.1 -0.1)\">\n       <use xlink:href=\"#DejaVuSans-49\"/>\n       <use x=\"63.623047\" xlink:href=\"#DejaVuSans-55\"/>\n       <use x=\"127.246094\" xlink:href=\"#DejaVuSans-46\"/>\n       <use x=\"159.033203\" xlink:href=\"#DejaVuSans-53\"/>\n      </g>\n     </g>\n    </g>\n    <g id=\"ytick_8\">\n     <g id=\"line2d_14\">\n      <g>\n       <use style=\"stroke:#000000;stroke-width:0.8;\" x=\"50.14375\" xlink:href=\"#m7556577688\" y=\"18.367594\"/>\n      </g>\n     </g>\n     <g id=\"text_15\">\n      <!-- 20.0 -->\n      <g transform=\"translate(20.878125 22.166813)scale(0.1 -0.1)\">\n       <use xlink:href=\"#DejaVuSans-50\"/>\n       <use x=\"63.623047\" xlink:href=\"#DejaVuSans-48\"/>\n       <use x=\"127.246094\" xlink:href=\"#DejaVuSans-46\"/>\n       <use x=\"159.033203\" xlink:href=\"#DejaVuSans-48\"/>\n      </g>\n     </g>\n    </g>\n    <g id=\"text_16\">\n     <!-- Root Mean Squared Error -->\n     <defs>\n      <path d=\"M 44.390625 34.1875 \nQ 47.5625 33.109375 50.5625 29.59375 \nQ 53.5625 26.078125 56.59375 19.921875 \nL 66.609375 0 \nL 56 0 \nL 46.6875 18.703125 \nQ 43.0625 26.03125 39.671875 28.421875 \nQ 36.28125 30.8125 30.421875 30.8125 \nL 19.671875 30.8125 \nL 19.671875 0 \nL 9.8125 0 \nL 9.8125 72.90625 \nL 32.078125 72.90625 \nQ 44.578125 72.90625 50.734375 67.671875 \nQ 56.890625 62.453125 56.890625 51.90625 \nQ 56.890625 45.015625 53.6875 40.46875 \nQ 50.484375 35.9375 44.390625 34.1875 \nz\nM 19.671875 64.796875 \nL 19.671875 38.921875 \nL 32.078125 38.921875 \nQ 39.203125 38.921875 42.84375 42.21875 \nQ 46.484375 45.515625 46.484375 51.90625 \nQ 46.484375 58.296875 42.84375 61.546875 \nQ 39.203125 64.796875 32.078125 64.796875 \nz\n\" id=\"DejaVuSans-82\"/>\n      <path d=\"M 18.3125 70.21875 \nL 18.3125 54.6875 \nL 36.8125 54.6875 \nL 36.8125 47.703125 \nL 18.3125 47.703125 \nL 18.3125 18.015625 \nQ 18.3125 11.328125 20.140625 9.421875 \nQ 21.96875 7.515625 27.59375 7.515625 \nL 36.8125 7.515625 \nL 36.8125 0 \nL 27.59375 0 \nQ 17.1875 0 13.234375 3.875 \nQ 9.28125 7.765625 9.28125 18.015625 \nL 9.28125 47.703125 \nL 2.6875 47.703125 \nL 2.6875 54.6875 \nL 9.28125 54.6875 \nL 9.28125 70.21875 \nz\n\" id=\"DejaVuSans-116\"/>\n      <path id=\"DejaVuSans-32\"/>\n      <path d=\"M 9.8125 72.90625 \nL 24.515625 72.90625 \nL 43.109375 23.296875 \nL 61.8125 72.90625 \nL 76.515625 72.90625 \nL 76.515625 0 \nL 66.890625 0 \nL 66.890625 64.015625 \nL 48.09375 14.015625 \nL 38.1875 14.015625 \nL 19.390625 64.015625 \nL 19.390625 0 \nL 9.8125 0 \nz\n\" id=\"DejaVuSans-77\"/>\n      <path d=\"M 56.203125 29.59375 \nL 56.203125 25.203125 \nL 14.890625 25.203125 \nQ 15.484375 15.921875 20.484375 11.0625 \nQ 25.484375 6.203125 34.421875 6.203125 \nQ 39.59375 6.203125 44.453125 7.46875 \nQ 49.3125 8.734375 54.109375 11.28125 \nL 54.109375 2.78125 \nQ 49.265625 0.734375 44.1875 -0.34375 \nQ 39.109375 -1.421875 33.890625 -1.421875 \nQ 20.796875 -1.421875 13.15625 6.1875 \nQ 5.515625 13.8125 5.515625 26.8125 \nQ 5.515625 40.234375 12.765625 48.109375 \nQ 20.015625 56 32.328125 56 \nQ 43.359375 56 49.78125 48.890625 \nQ 56.203125 41.796875 56.203125 29.59375 \nz\nM 47.21875 32.234375 \nQ 47.125 39.59375 43.09375 43.984375 \nQ 39.0625 48.390625 32.421875 48.390625 \nQ 24.90625 48.390625 20.390625 44.140625 \nQ 15.875 39.890625 15.1875 32.171875 \nz\n\" id=\"DejaVuSans-101\"/>\n      <path d=\"M 34.28125 27.484375 \nQ 23.390625 27.484375 19.1875 25 \nQ 14.984375 22.515625 14.984375 16.5 \nQ 14.984375 11.71875 18.140625 8.90625 \nQ 21.296875 6.109375 26.703125 6.109375 \nQ 34.1875 6.109375 38.703125 11.40625 \nQ 43.21875 16.703125 43.21875 25.484375 \nL 43.21875 27.484375 \nz\nM 52.203125 31.203125 \nL 52.203125 0 \nL 43.21875 0 \nL 43.21875 8.296875 \nQ 40.140625 3.328125 35.546875 0.953125 \nQ 30.953125 -1.421875 24.3125 -1.421875 \nQ 15.921875 -1.421875 10.953125 3.296875 \nQ 6 8.015625 6 15.921875 \nQ 6 25.140625 12.171875 29.828125 \nQ 18.359375 34.515625 30.609375 34.515625 \nL 43.21875 34.515625 \nL 43.21875 35.40625 \nQ 43.21875 41.609375 39.140625 45 \nQ 35.0625 48.390625 27.6875 48.390625 \nQ 23 48.390625 18.546875 47.265625 \nQ 14.109375 46.140625 10.015625 43.890625 \nL 10.015625 52.203125 \nQ 14.9375 54.109375 19.578125 55.046875 \nQ 24.21875 56 28.609375 56 \nQ 40.484375 56 46.34375 49.84375 \nQ 52.203125 43.703125 52.203125 31.203125 \nz\n\" id=\"DejaVuSans-97\"/>\n      <path d=\"M 54.890625 33.015625 \nL 54.890625 0 \nL 45.90625 0 \nL 45.90625 32.71875 \nQ 45.90625 40.484375 42.875 44.328125 \nQ 39.84375 48.1875 33.796875 48.1875 \nQ 26.515625 48.1875 22.3125 43.546875 \nQ 18.109375 38.921875 18.109375 30.90625 \nL 18.109375 0 \nL 9.078125 0 \nL 9.078125 54.6875 \nL 18.109375 54.6875 \nL 18.109375 46.1875 \nQ 21.34375 51.125 25.703125 53.5625 \nQ 30.078125 56 35.796875 56 \nQ 45.21875 56 50.046875 50.171875 \nQ 54.890625 44.34375 54.890625 33.015625 \nz\n\" id=\"DejaVuSans-110\"/>\n      <path d=\"M 53.515625 70.515625 \nL 53.515625 60.890625 \nQ 47.90625 63.578125 42.921875 64.890625 \nQ 37.9375 66.21875 33.296875 66.21875 \nQ 25.25 66.21875 20.875 63.09375 \nQ 16.5 59.96875 16.5 54.203125 \nQ 16.5 49.359375 19.40625 46.890625 \nQ 22.3125 44.4375 30.421875 42.921875 \nL 36.375 41.703125 \nQ 47.40625 39.59375 52.65625 34.296875 \nQ 57.90625 29 57.90625 20.125 \nQ 57.90625 9.515625 50.796875 4.046875 \nQ 43.703125 -1.421875 29.984375 -1.421875 \nQ 24.8125 -1.421875 18.96875 -0.25 \nQ 13.140625 0.921875 6.890625 3.21875 \nL 6.890625 13.375 \nQ 12.890625 10.015625 18.65625 8.296875 \nQ 24.421875 6.59375 29.984375 6.59375 \nQ 38.421875 6.59375 43.015625 9.90625 \nQ 47.609375 13.234375 47.609375 19.390625 \nQ 47.609375 24.75 44.3125 27.78125 \nQ 41.015625 30.8125 33.5 32.328125 \nL 27.484375 33.5 \nQ 16.453125 35.6875 11.515625 40.375 \nQ 6.59375 45.0625 6.59375 53.421875 \nQ 6.59375 63.09375 13.40625 68.65625 \nQ 20.21875 74.21875 32.171875 74.21875 \nQ 37.3125 74.21875 42.625 73.28125 \nQ 47.953125 72.359375 53.515625 70.515625 \nz\n\" id=\"DejaVuSans-83\"/>\n      <path d=\"M 14.796875 27.296875 \nQ 14.796875 17.390625 18.875 11.75 \nQ 22.953125 6.109375 30.078125 6.109375 \nQ 37.203125 6.109375 41.296875 11.75 \nQ 45.40625 17.390625 45.40625 27.296875 \nQ 45.40625 37.203125 41.296875 42.84375 \nQ 37.203125 48.484375 30.078125 48.484375 \nQ 22.953125 48.484375 18.875 42.84375 \nQ 14.796875 37.203125 14.796875 27.296875 \nz\nM 45.40625 8.203125 \nQ 42.578125 3.328125 38.25 0.953125 \nQ 33.9375 -1.421875 27.875 -1.421875 \nQ 17.96875 -1.421875 11.734375 6.484375 \nQ 5.515625 14.40625 5.515625 27.296875 \nQ 5.515625 40.1875 11.734375 48.09375 \nQ 17.96875 56 27.875 56 \nQ 33.9375 56 38.25 53.625 \nQ 42.578125 51.265625 45.40625 46.390625 \nL 45.40625 54.6875 \nL 54.390625 54.6875 \nL 54.390625 -20.796875 \nL 45.40625 -20.796875 \nz\n\" id=\"DejaVuSans-113\"/>\n      <path d=\"M 8.5 21.578125 \nL 8.5 54.6875 \nL 17.484375 54.6875 \nL 17.484375 21.921875 \nQ 17.484375 14.15625 20.5 10.265625 \nQ 23.53125 6.390625 29.59375 6.390625 \nQ 36.859375 6.390625 41.078125 11.03125 \nQ 45.3125 15.671875 45.3125 23.6875 \nL 45.3125 54.6875 \nL 54.296875 54.6875 \nL 54.296875 0 \nL 45.3125 0 \nL 45.3125 8.40625 \nQ 42.046875 3.421875 37.71875 1 \nQ 33.40625 -1.421875 27.6875 -1.421875 \nQ 18.265625 -1.421875 13.375 4.4375 \nQ 8.5 10.296875 8.5 21.578125 \nz\nM 31.109375 56 \nz\n\" id=\"DejaVuSans-117\"/>\n      <path d=\"M 41.109375 46.296875 \nQ 39.59375 47.171875 37.8125 47.578125 \nQ 36.03125 48 33.890625 48 \nQ 26.265625 48 22.1875 43.046875 \nQ 18.109375 38.09375 18.109375 28.8125 \nL 18.109375 0 \nL 9.078125 0 \nL 9.078125 54.6875 \nL 18.109375 54.6875 \nL 18.109375 46.1875 \nQ 20.953125 51.171875 25.484375 53.578125 \nQ 30.03125 56 36.53125 56 \nQ 37.453125 56 38.578125 55.875 \nQ 39.703125 55.765625 41.0625 55.515625 \nz\n\" id=\"DejaVuSans-114\"/>\n      <path d=\"M 45.40625 46.390625 \nL 45.40625 75.984375 \nL 54.390625 75.984375 \nL 54.390625 0 \nL 45.40625 0 \nL 45.40625 8.203125 \nQ 42.578125 3.328125 38.25 0.953125 \nQ 33.9375 -1.421875 27.875 -1.421875 \nQ 17.96875 -1.421875 11.734375 6.484375 \nQ 5.515625 14.40625 5.515625 27.296875 \nQ 5.515625 40.1875 11.734375 48.09375 \nQ 17.96875 56 27.875 56 \nQ 33.9375 56 38.25 53.625 \nQ 42.578125 51.265625 45.40625 46.390625 \nz\nM 14.796875 27.296875 \nQ 14.796875 17.390625 18.875 11.75 \nQ 22.953125 6.109375 30.078125 6.109375 \nQ 37.203125 6.109375 41.296875 11.75 \nQ 45.40625 17.390625 45.40625 27.296875 \nQ 45.40625 37.203125 41.296875 42.84375 \nQ 37.203125 48.484375 30.078125 48.484375 \nQ 22.953125 48.484375 18.875 42.84375 \nQ 14.796875 37.203125 14.796875 27.296875 \nz\n\" id=\"DejaVuSans-100\"/>\n     </defs>\n     <g transform=\"translate(14.798438 178.598906)rotate(-90)scale(0.1 -0.1)\">\n      <use xlink:href=\"#DejaVuSans-82\"/>\n      <use x=\"64.982422\" xlink:href=\"#DejaVuSans-111\"/>\n      <use x=\"126.164062\" xlink:href=\"#DejaVuSans-111\"/>\n      <use x=\"187.345703\" xlink:href=\"#DejaVuSans-116\"/>\n      <use x=\"226.554688\" xlink:href=\"#DejaVuSans-32\"/>\n      <use x=\"258.341797\" xlink:href=\"#DejaVuSans-77\"/>\n      <use x=\"344.621094\" xlink:href=\"#DejaVuSans-101\"/>\n      <use x=\"406.144531\" xlink:href=\"#DejaVuSans-97\"/>\n      <use x=\"467.423828\" xlink:href=\"#DejaVuSans-110\"/>\n      <use x=\"530.802734\" xlink:href=\"#DejaVuSans-32\"/>\n      <use x=\"562.589844\" xlink:href=\"#DejaVuSans-83\"/>\n      <use x=\"626.066406\" xlink:href=\"#DejaVuSans-113\"/>\n      <use x=\"689.542969\" xlink:href=\"#DejaVuSans-117\"/>\n      <use x=\"752.921875\" xlink:href=\"#DejaVuSans-97\"/>\n      <use x=\"814.201172\" xlink:href=\"#DejaVuSans-114\"/>\n      <use x=\"853.064453\" xlink:href=\"#DejaVuSans-101\"/>\n      <use x=\"914.587891\" xlink:href=\"#DejaVuSans-100\"/>\n      <use x=\"978.064453\" xlink:href=\"#DejaVuSans-32\"/>\n      <use x=\"1009.851562\" xlink:href=\"#DejaVuSans-69\"/>\n      <use x=\"1073.035156\" xlink:href=\"#DejaVuSans-114\"/>\n      <use x=\"1112.398438\" xlink:href=\"#DejaVuSans-114\"/>\n      <use x=\"1151.261719\" xlink:href=\"#DejaVuSans-111\"/>\n      <use x=\"1212.443359\" xlink:href=\"#DejaVuSans-114\"/>\n     </g>\n    </g>\n   </g>\n   <g id=\"line2d_15\">\n    <path clip-path=\"url(#pef316220e7)\" d=\"M 65.361932 7.2 \nL 65.971268 14.348842 \nL 67.189942 22.905717 \nL 69.32262 35.3861 \nL 73.892644 60.804189 \nL 84.251367 116.342086 \nL 85.774708 124.319161 \nL 87.907386 135.359942 \nL 98.266109 187.398365 \nL 101.008123 200.027033 \nL 104.054807 212.557699 \nL 105.882816 218.537627 \nL 107.10149 221.336063 \nL 108.015494 222.767763 \nL 108.624831 223.414892 \nL 109.538836 223.90584 \nL 109.843504 223.9154 \nL 110.452841 224.069722 \nL 110.757509 223.976219 \nL 111.366846 224.114751 \nL 111.976182 224.070254 \nL 112.280851 224.14222 \nL 112.585519 224.063858 \nL 113.499524 224.159818 \nL 114.108861 224.009218 \nL 114.718197 224.094831 \nL 115.022865 223.850756 \nL 115.327534 223.864795 \nL 115.632202 224.181186 \nL 115.93687 224.033169 \nL 116.241539 224.026359 \nL 116.546207 224.189554 \nL 117.76488 224.164231 \nL 118.374217 223.969746 \nL 118.678885 224.217429 \nL 118.983553 224.139295 \nL 119.288222 223.907539 \nL 119.59289 223.938861 \nL 119.897558 224.153501 \nL 120.506895 224.143692 \nL 120.811563 224.22711 \nL 121.116232 223.997308 \nL 122.030236 224.242477 \nL 122.639573 224.187956 \nL 122.944241 223.894302 \nL 123.24891 224.179222 \nL 123.553578 224.182232 \nL 123.858246 223.923002 \nL 124.162915 224.149272 \nL 125.07692 224.223141 \nL 125.686256 223.903616 \nL 125.990924 224.204845 \nL 127.209598 224.188586 \nL 127.514266 223.838102 \nL 127.818934 224.269724 \nL 128.123603 224.207471 \nL 128.732939 224.272535 \nL 129.037607 223.656908 \nL 129.342276 224.206651 \nL 131.474954 224.273302 \nL 131.779622 224.279095 \nL 132.084291 223.808967 \nL 132.693627 224.28886 \nL 132.998295 223.975304 \nL 133.302964 224.293844 \nL 133.607632 224.293123 \nL 133.9123 224.083686 \nL 134.216969 224.293916 \nL 134.521637 224.129907 \nL 135.435642 224.291151 \nL 137.263652 224.257576 \nL 137.56832 224.290443 \nL 137.872988 224.130473 \nL 138.177657 224.286319 \nL 138.786993 224.282147 \nL 139.091662 223.983432 \nL 139.39633 224.300671 \nL 139.700998 223.838483 \nL 140.005666 224.305976 \nL 140.310335 224.033773 \nL 140.615003 224.312974 \nL 140.919671 223.831724 \nL 141.22434 224.31538 \nL 141.529008 224.267167 \nL 141.833676 224.096061 \nL 142.138345 224.312023 \nL 142.443013 224.193182 \nL 142.747681 224.271192 \nL 143.05235 224.143671 \nL 143.357018 224.182956 \nL 143.966354 224.045142 \nL 144.271023 224.241926 \nL 144.880359 224.296597 \nL 145.185028 224.155915 \nL 145.794364 224.180214 \nL 146.099033 224.272788 \nL 146.403701 223.961781 \nL 147.013037 224.317998 \nL 147.622374 224.220575 \nL 148.231711 223.991011 \nL 148.536379 224.279158 \nL 149.145716 224.314976 \nL 149.450384 224.034134 \nL 150.364389 224.316156 \nL 150.973725 224.113001 \nL 151.278394 224.262481 \nL 151.583062 223.716507 \nL 151.88773 224.289723 \nL 152.497067 224.248266 \nL 152.801735 224.322765 \nL 153.106404 224.212088 \nL 154.325077 224.187028 \nL 154.629745 223.865372 \nL 154.934413 224.307758 \nL 156.457755 224.317014 \nL 156.762423 224.179055 \nL 158.895101 224.309825 \nL 159.504438 224.031103 \nL 159.809106 224.250052 \nL 160.113775 224.190137 \nL 160.418443 224.324944 \nL 161.027779 224.210191 \nL 161.332448 223.983883 \nL 161.637116 224.261731 \nL 162.246453 224.271165 \nL 162.551121 224.129632 \nL 162.855789 224.28798 \nL 164.379131 224.199706 \nL 164.683799 224.190656 \nL 164.988467 224.313808 \nL 165.293136 224.061753 \nL 165.597804 224.270584 \nL 165.902472 224.119307 \nL 166.207141 224.32223 \nL 166.511809 224.331688 \nL 166.816477 224.10277 \nL 167.730482 224.329012 \nL 168.949155 224.254415 \nL 169.253824 224.141252 \nL 169.558492 224.31535 \nL 169.86316 224.124925 \nL 170.167829 224.31766 \nL 170.472497 223.699066 \nL 170.777165 224.271382 \nL 171.081834 224.333038 \nL 171.386502 224.133958 \nL 171.69117 224.319999 \nL 172.909843 224.280944 \nL 173.51918 223.769298 \nL 173.823848 224.225387 \nL 174.128517 223.939706 \nL 174.737853 224.296869 \nL 175.042521 223.997531 \nL 175.34719 224.26136 \nL 176.261195 224.313258 \nL 176.565863 223.845108 \nL 176.870531 224.335705 \nL 177.1752 224.335792 \nL 177.479868 223.988986 \nL 177.784536 224.299985 \nL 178.089205 223.85679 \nL 178.393873 224.280994 \nL 178.698541 224.178892 \nL 179.003209 224.231355 \nL 179.307878 224.023524 \nL 179.612546 224.325869 \nL 180.221883 224.308284 \nL 180.526551 224.142374 \nL 180.831219 224.312753 \nL 181.440556 223.974366 \nL 181.745224 224.292661 \nL 182.659229 224.334629 \nL 182.963897 224.24144 \nL 183.573234 224.326426 \nL 183.877902 224.043404 \nL 184.182571 224.286665 \nL 184.791907 224.302545 \nL 185.096576 223.5907 \nL 185.401244 224.323695 \nL 186.315249 224.2753 \nL 186.619917 224.055891 \nL 186.924585 224.323534 \nL 187.533922 224.336551 \nL 187.83859 224.026189 \nL 188.143259 224.243677 \nL 188.447927 223.961121 \nL 188.752595 224.286915 \nL 189.361932 224.329896 \nL 189.6666 224.215381 \nL 190.275937 224.331805 \nL 190.885273 224.191062 \nL 191.189942 224.31545 \nL 191.49461 224.217806 \nL 191.799278 223.78136 \nL 192.103947 224.31578 \nL 192.408615 224.257938 \nL 192.713283 223.743912 \nL 193.017951 224.119805 \nL 193.32262 224.306956 \nL 193.627288 224.335529 \nL 194.236625 224.019789 \nL 194.541293 224.319222 \nL 196.369303 224.263659 \nL 196.673971 224.092018 \nL 196.978639 224.318239 \nL 197.587976 224.292276 \nL 197.892644 223.926447 \nL 198.501981 224.308081 \nL 198.806649 224.304093 \nL 199.111318 224.03723 \nL 199.415986 224.297342 \nL 199.720654 224.332724 \nL 200.025322 224.228339 \nL 200.329991 224.302182 \nL 200.634659 224.040157 \nL 200.939327 224.240772 \nL 201.243996 224.230618 \nL 201.548664 224.103136 \nL 201.853332 223.753953 \nL 202.158001 224.307945 \nL 202.462669 224.185278 \nL 202.767337 224.32509 \nL 203.072006 224.212234 \nL 203.376674 224.277596 \nL 203.681342 224.151091 \nL 204.595347 224.26674 \nL 204.900015 224.062769 \nL 205.204684 224.266941 \nL 205.509352 223.818492 \nL 206.118689 224.312454 \nL 207.64203 224.309412 \nL 209.165372 224.296268 \nL 209.47004 224.211137 \nL 209.774708 224.310479 \nL 210.384045 224.310158 \nL 210.688713 223.975597 \nL 210.993381 224.328845 \nL 212.212055 224.331776 \nL 212.516723 223.96736 \nL 212.821391 224.233532 \nL 213.12606 224.260745 \nL 213.430728 224.038376 \nL 213.735396 223.97753 \nL 214.040064 224.325846 \nL 215.258738 224.203773 \nL 215.563406 224.308459 \nL 216.172743 224.135185 \nL 216.477411 224.31586 \nL 217.696084 224.295876 \nL 218.000752 224.032008 \nL 218.610089 224.316632 \nL 218.914757 223.942741 \nL 219.219426 224.313527 \nL 220.133431 224.184289 \nL 221.352104 224.298457 \nL 221.656772 223.9568 \nL 221.96144 224.32983 \nL 222.266109 224.335238 \nL 222.570777 224.223604 \nL 222.875445 223.922971 \nL 223.180114 224.321827 \nL 223.484782 224.265207 \nL 223.78945 224.329562 \nL 224.703455 223.941086 \nL 225.008123 224.331283 \nL 225.61746 224.273067 \nL 225.922128 223.719617 \nL 226.226797 224.260618 \nL 226.836133 224.322952 \nL 228.664143 224.219457 \nL 228.968811 223.861801 \nL 229.27348 224.32446 \nL 229.882816 223.962512 \nL 230.187485 224.27688 \nL 230.492153 224.320683 \nL 230.796821 224.226204 \nL 231.10149 224.328293 \nL 232.624831 224.280037 \nL 233.538836 224.32813 \nL 233.843504 224.15912 \nL 234.148173 224.129657 \nL 234.452841 223.981578 \nL 235.062178 224.025352 \nL 235.976182 224.158359 \nL 236.280851 224.328716 \nL 236.890187 224.257885 \nL 237.194856 224.063316 \nL 237.804192 224.160674 \nL 238.108861 224.166441 \nL 238.413529 224.332601 \nL 239.327534 224.209464 \nL 239.93687 224.319443 \nL 240.850875 224.216364 \nL 241.155544 223.864401 \nL 241.460212 224.192893 \nL 242.069549 224.27299 \nL 242.374217 223.999256 \nL 242.678885 224.176344 \nL 242.983553 224.104937 \nL 243.59289 224.322954 \nL 243.897558 224.336781 \nL 244.506895 224.118768 \nL 245.116232 224.325181 \nL 245.4209 224.32187 \nL 245.725568 223.947149 \nL 246.030236 223.877653 \nL 246.334905 224.241296 \nL 246.639573 224.044976 \nL 248.162915 224.296255 \nL 248.467583 224.054643 \nL 248.772251 224.296102 \nL 249.381588 224.31492 \nL 249.686256 224.216295 \nL 249.990924 224.334889 \nL 250.295593 224.082049 \nL 250.600261 224.001271 \nL 250.904929 224.239945 \nL 251.209598 224.155316 \nL 251.514266 224.28691 \nL 251.818934 223.886563 \nL 252.123603 224.306171 \nL 252.428271 224.102236 \nL 252.732939 224.328535 \nL 253.951612 224.323818 \nL 254.256281 224.31691 \nL 254.560949 224.019772 \nL 254.865617 224.301501 \nL 255.474954 224.330436 \nL 255.779622 224.131912 \nL 256.388959 224.276493 \nL 256.998295 223.769264 \nL 257.302964 224.179933 \nL 257.607632 224.335112 \nL 258.826305 224.149317 \nL 259.130974 224.322974 \nL 259.435642 224.028964 \nL 259.74031 224.24201 \nL 260.044979 224.184698 \nL 260.654315 224.250558 \nL 261.263652 224.221377 \nL 261.56832 224.317562 \nL 262.482325 224.218473 \nL 262.786993 224.326466 \nL 263.091662 223.840424 \nL 263.39633 224.263314 \nL 263.700998 224.244841 \nL 264.005666 223.848673 \nL 264.310335 224.154478 \nL 264.615003 224.283635 \nL 264.919671 224.128832 \nL 265.22434 224.104207 \nL 265.529008 224.32794 \nL 265.833676 224.141314 \nL 266.138345 224.304935 \nL 266.443013 224.150987 \nL 266.747681 224.307211 \nL 267.05235 224.144541 \nL 267.357018 224.327037 \nL 267.661686 224.281375 \nL 267.966354 224.06072 \nL 268.575691 224.334117 \nL 268.880359 224.333247 \nL 269.185028 223.867897 \nL 269.794364 224.31348 \nL 270.708369 224.291309 \nL 271.013037 224.084907 \nL 271.317706 224.260006 \nL 272.536379 224.158091 \nL 272.841047 224.329666 \nL 274.059721 224.303451 \nL 274.364389 223.763498 \nL 274.669057 224.259684 \nL 274.973725 223.849891 \nL 275.278394 224.305658 \nL 275.583062 224.181242 \nL 276.497067 224.326534 \nL 276.801735 223.916132 \nL 277.106404 224.332202 \nL 277.71574 223.956897 \nL 278.020408 224.237699 \nL 278.325077 224.335021 \nL 278.629745 224.292042 \nL 278.934413 223.868262 \nL 279.239082 224.316411 \nL 279.54375 223.953805 \nL 279.848418 224.326651 \nL 280.153087 224.207345 \nL 280.762423 224.276346 \nL 284.113775 224.216784 \nL 284.418443 224.093755 \nL 284.723111 224.32618 \nL 285.027779 224.298313 \nL 285.332448 223.913812 \nL 285.637116 224.326113 \nL 285.941784 224.018446 \nL 286.246453 224.300752 \nL 286.551121 223.970792 \nL 286.855789 224.321508 \nL 287.465126 224.284135 \nL 287.769794 224.192691 \nL 288.074463 224.330252 \nL 288.379131 224.274786 \nL 288.988467 224.327249 \nL 289.597804 223.759508 \nL 289.902472 224.317473 \nL 290.207141 224.31807 \nL 290.511809 224.116731 \nL 291.121146 224.314527 \nL 292.03515 224.316502 \nL 292.339819 224.151471 \nL 292.644487 224.323353 \nL 293.558492 224.316434 \nL 293.86316 224.102922 \nL 294.167829 224.290067 \nL 294.472497 223.86911 \nL 294.777165 224.204639 \nL 295.081834 224.283103 \nL 295.386502 223.860459 \nL 295.69117 224.321652 \nL 295.995838 224.024769 \nL 296.300507 224.329689 \nL 296.909843 224.275891 \nL 297.51918 224.309539 \nL 298.128517 224.135284 \nL 298.433185 224.326484 \nL 299.34719 224.211086 \nL 299.651858 224.284919 \nL 299.956526 223.761837 \nL 300.261195 224.28321 \nL 300.870531 224.309284 \nL 301.1752 224.23786 \nL 301.479868 224.3109 \nL 301.784536 224.223593 \nL 302.393873 224.325851 \nL 303.612546 224.332699 \nL 303.917214 224.165629 \nL 304.221883 224.303444 \nL 304.526551 224.077876 \nL 304.831219 224.334574 \nL 305.440556 224.228011 \nL 305.745224 224.293087 \nL 306.049893 224.164619 \nL 306.659229 224.331068 \nL 306.963897 224.119181 \nL 307.268566 224.324231 \nL 307.573234 223.831621 \nL 307.877902 224.285104 \nL 308.182571 224.329684 \nL 308.487239 224.063276 \nL 308.791907 224.327924 \nL 309.401244 223.831406 \nL 309.705912 224.319068 \nL 310.01058 224.334729 \nL 310.315249 224.119241 \nL 310.619917 224.326222 \nL 310.924585 224.068253 \nL 311.229254 224.297693 \nL 312.447927 224.327266 \nL 313.361932 224.089509 \nL 313.971268 224.301988 \nL 314.275937 223.998082 \nL 314.885273 224.335708 \nL 315.49461 224.328353 \nL 315.799278 224.062502 \nL 316.103947 224.235435 \nL 317.32262 224.286854 \nL 317.627288 223.935935 \nL 317.931956 224.332786 \nL 318.845961 223.945751 \nL 319.15063 224.105573 \nL 319.455298 224.103811 \nL 319.759966 224.288076 \nL 320.064635 223.866242 \nL 320.369303 224.333626 \nL 320.978639 224.233519 \nL 321.587976 224.32163 \nL 322.501981 224.299354 \nL 322.806649 223.977957 \nL 323.111318 224.316457 \nL 323.720654 224.156105 \nL 324.025322 224.326647 \nL 324.634659 223.935297 \nL 324.939327 224.331223 \nL 325.243996 224.327073 \nL 325.548664 224.11783 \nL 326.158001 224.32742 \nL 328.595347 224.199941 \nL 328.900015 224.280405 \nL 329.204684 224.197589 \nL 329.81402 224.334902 \nL 330.423357 224.118536 \nL 331.64203 224.321512 \nL 332.251367 224.33052 \nL 332.556035 224.030107 \nL 332.860703 224.333303 \nL 333.165372 224.294684 \nL 333.47004 224.07222 \nL 333.774708 224.098787 \nL 334.079377 223.7686 \nL 334.384045 224.334865 \nL 335.29805 224.234738 \nL 335.602718 223.922444 \nL 335.907386 224.314267 \nL 336.821391 224.317065 \nL 337.12606 224.032309 \nL 337.430728 224.31947 \nL 337.735396 224.331049 \nL 338.040064 224.191987 \nL 338.344733 224.305303 \nL 338.649401 224.088735 \nL 338.954069 224.309653 \nL 339.563406 224.292735 \nL 339.868074 223.699654 \nL 340.172743 224.331683 \nL 340.782079 224.285587 \nL 341.086748 224.170985 \nL 341.391416 224.335922 \nL 342.305421 224.3338 \nL 342.610089 223.885749 \nL 343.219426 224.329647 \nL 343.524094 223.984403 \nL 343.828762 223.956119 \nL 344.133431 224.041909 \nL 344.438099 224.333455 \nL 345.352104 224.296509 \nL 345.96144 224.273785 \nL 346.266109 224.186353 \nL 346.875445 224.311478 \nL 347.180114 224.30617 \nL 347.484782 224.112919 \nL 347.78945 224.306265 \nL 348.398787 223.855867 \nL 348.703455 224.32278 \nL 349.008123 224.263233 \nL 349.312792 223.79705 \nL 349.922128 224.289818 \nL 350.226797 224.1708 \nL 350.836133 224.334229 \nL 351.140802 224.055385 \nL 351.750138 224.325561 \nL 352.054807 224.077999 \nL 352.359475 224.335193 \nL 352.664143 224.277249 \nL 353.27348 224.335202 \nL 353.578148 224.3289 \nL 353.882816 223.677782 \nL 354.187485 224.336387 \nL 354.796821 224.129629 \nL 355.10149 224.284104 \nL 355.406158 224.091552 \nL 355.710826 224.218379 \nL 356.320163 224.302003 \nL 357.234168 224.293934 \nL 357.538836 224.194459 \nL 357.843504 224.252436 \nL 358.148173 223.834942 \nL 358.452841 224.330519 \nL 358.757509 224.254001 \nL 359.366846 224.330002 \nL 360.585519 224.250794 \nL 360.890187 224.107709 \nL 361.804192 224.121064 \nL 362.108861 224.326792 \nL 362.413529 224.226804 \nL 363.022865 224.333926 \nL 363.327534 224.145059 \nL 363.632202 224.236395 \nL 363.93687 224.072445 \nL 364.241539 224.33672 \nL 364.546207 224.295399 \nL 364.850875 223.979799 \nL 365.155544 224.330102 \nL 365.460212 224.112767 \nL 365.76488 224.280315 \nL 366.069549 224.221307 \nL 366.374217 223.95489 \nL 366.678885 223.845866 \nL 366.983553 224.13584 \nL 367.288222 224.09049 \nL 367.59289 224.316027 \nL 368.202227 224.285917 \nL 368.506895 224.333263 \nL 368.811563 224.033701 \nL 369.116232 224.032598 \nL 369.4209 223.894719 \nL 369.725568 224.040709 \nL 369.725568 224.040709 \n\" style=\"fill:none;stroke:#1f77b4;stroke-linecap:square;stroke-width:1.5;\"/>\n   </g>\n   <g id=\"patch_3\">\n    <path d=\"M 50.14375 224.64 \nL 50.14375 7.2 \n\" style=\"fill:none;stroke:#000000;stroke-linecap:square;stroke-linejoin:miter;stroke-width:0.8;\"/>\n   </g>\n   <g id=\"patch_4\">\n    <path d=\"M 384.94375 224.64 \nL 384.94375 7.2 \n\" style=\"fill:none;stroke:#000000;stroke-linecap:square;stroke-linejoin:miter;stroke-width:0.8;\"/>\n   </g>\n   <g id=\"patch_5\">\n    <path d=\"M 50.14375 224.64 \nL 384.94375 224.64 \n\" style=\"fill:none;stroke:#000000;stroke-linecap:square;stroke-linejoin:miter;stroke-width:0.8;\"/>\n   </g>\n   <g id=\"patch_6\">\n    <path d=\"M 50.14375 7.2 \nL 384.94375 7.2 \n\" style=\"fill:none;stroke:#000000;stroke-linecap:square;stroke-linejoin:miter;stroke-width:0.8;\"/>\n   </g>\n   <g id=\"legend_1\">\n    <g id=\"patch_7\">\n     <path d=\"M 324.009375 29.878125 \nL 377.94375 29.878125 \nQ 379.94375 29.878125 379.94375 27.878125 \nL 379.94375 14.2 \nQ 379.94375 12.2 377.94375 12.2 \nL 324.009375 12.2 \nQ 322.009375 12.2 322.009375 14.2 \nL 322.009375 27.878125 \nQ 322.009375 29.878125 324.009375 29.878125 \nz\n\" style=\"fill:#ffffff;opacity:0.8;stroke:#cccccc;stroke-linejoin:miter;\"/>\n    </g>\n    <g id=\"line2d_16\">\n     <path d=\"M 326.009375 20.298438 \nL 346.009375 20.298438 \n\" style=\"fill:none;stroke:#1f77b4;stroke-linecap:square;stroke-width:1.5;\"/>\n    </g>\n    <g id=\"line2d_17\"/>\n    <g id=\"text_17\">\n     <!-- Loss -->\n     <defs>\n      <path d=\"M 9.8125 72.90625 \nL 19.671875 72.90625 \nL 19.671875 8.296875 \nL 55.171875 8.296875 \nL 55.171875 0 \nL 9.8125 0 \nz\n\" id=\"DejaVuSans-76\"/>\n      <path d=\"M 44.28125 53.078125 \nL 44.28125 44.578125 \nQ 40.484375 46.53125 36.375 47.5 \nQ 32.28125 48.484375 27.875 48.484375 \nQ 21.1875 48.484375 17.84375 46.4375 \nQ 14.5 44.390625 14.5 40.28125 \nQ 14.5 37.15625 16.890625 35.375 \nQ 19.28125 33.59375 26.515625 31.984375 \nL 29.59375 31.296875 \nQ 39.15625 29.25 43.1875 25.515625 \nQ 47.21875 21.78125 47.21875 15.09375 \nQ 47.21875 7.46875 41.1875 3.015625 \nQ 35.15625 -1.421875 24.609375 -1.421875 \nQ 20.21875 -1.421875 15.453125 -0.5625 \nQ 10.6875 0.296875 5.421875 2 \nL 5.421875 11.28125 \nQ 10.40625 8.6875 15.234375 7.390625 \nQ 20.0625 6.109375 24.8125 6.109375 \nQ 31.15625 6.109375 34.5625 8.28125 \nQ 37.984375 10.453125 37.984375 14.40625 \nQ 37.984375 18.0625 35.515625 20.015625 \nQ 33.0625 21.96875 24.703125 23.78125 \nL 21.578125 24.515625 \nQ 13.234375 26.265625 9.515625 29.90625 \nQ 5.8125 33.546875 5.8125 39.890625 \nQ 5.8125 47.609375 11.28125 51.796875 \nQ 16.75 56 26.8125 56 \nQ 31.78125 56 36.171875 55.265625 \nQ 40.578125 54.546875 44.28125 53.078125 \nz\n\" id=\"DejaVuSans-115\"/>\n     </defs>\n     <g transform=\"translate(354.009375 23.798438)scale(0.1 -0.1)\">\n      <use xlink:href=\"#DejaVuSans-76\"/>\n      <use x=\"53.962891\" xlink:href=\"#DejaVuSans-111\"/>\n      <use x=\"115.144531\" xlink:href=\"#DejaVuSans-115\"/>\n      <use x=\"167.244141\" xlink:href=\"#DejaVuSans-115\"/>\n     </g>\n    </g>\n   </g>\n  </g>\n </g>\n <defs>\n  <clipPath id=\"pef316220e7\">\n   <rect height=\"217.44\" width=\"334.8\" x=\"50.14375\" y=\"7.2\"/>\n  </clipPath>\n </defs>\n</svg>\n",
            "image/png": "[encoded data removed]"
          },
          "metadata": {
            "needs_background": "light"
          }
        }
      ]
    },
    {
      "cell_type": "markdown",
      "metadata": {
        "id": "QwSm60H6pQjJ",
        "colab_type": "text"
      },
      "source": [
        "## Task 1: Examine the graphs\n",
        "\n",
        "Examine the top graph. The blue dots identify the actual data; the red line identifies the output of the trained model. Ideally, the red line should align nicely with the blue dots.  Does it?  Probably not.\n",
        "\n",
        "A certain amount of randomness plays into training a model, so you'll get somewhat different results every time you train.  That said, unless you are an extremely lucky person, the red line probably *doesn't* align nicely with the blue dots.  \n",
        "\n",
        "Examine the bottom graph, which shows the loss curve. Notice that the loss curve decreases but doesn't flatten out, which is a sign that the model hasn't trained sufficiently."
      ]
    },
    {
      "cell_type": "markdown",
      "metadata": {
        "id": "lLXPvqCRvgI4",
        "colab_type": "text"
      },
      "source": [
        "## Task 2: Increase the number of epochs\n",
        "\n",
        "Training loss should steadily decrease, steeply at first, and then more slowly. Eventually, training loss should eventually stay steady (zero slope or nearly zero slope), which indicates that training has [converged](http://developers.google.com/machine-learning/glossary/#convergence).\n",
        "\n",
        "In Task 1, the training loss did not converge. One possible solution is to train for more epochs.  Your task is to increase the number of epochs sufficiently to get the model to converge. However, it is inefficient to train past convergence, so don't just set the number of epochs to an arbitrarily high value.\n",
        "\n",
        "Examine the loss curve. Does the model converge?"
      ]
    },
    {
      "cell_type": "code",
      "metadata": {
        "id": "uXuJH3h6t5qs",
        "colab_type": "code",
        "colab": {}
      },
      "source": [
        "learning_rate=0.01\n",
        "epochs= ?   # Replace ? with an integer.\n",
        "my_batch_size=12\n",
        "\n",
        "my_model = build_model(learning_rate)\n",
        "trained_weight, trained_bias, epochs, rmse = train_model(my_model, my_feature, \n",
        "                                                        my_label, epochs,\n",
        "                                                        my_batch_size)\n",
        "plot_the_model(trained_weight, trained_bias, my_feature, my_label)\n",
        "plot_the_loss_curve(epochs, rmse)"
      ],
      "execution_count": null,
      "outputs": []
    },
    {
      "cell_type": "code",
      "metadata": {
        "id": "1tWrzP4Ww7sD",
        "colab_type": "code",
        "cellView": "form",
        "colab": {}
      },
      "source": [
        "#@title Double-click to view a possible solution\n",
        "learning_rate=0.01\n",
        "epochs=450\n",
        "my_batch_size=12 \n",
        "\n",
        "my_model = build_model(learning_rate)\n",
        "trained_weight, trained_bias, epochs, rmse = train_model(my_model, my_feature, \n",
        "                                                         my_label, epochs,\n",
        "                                                         my_batch_size)\n",
        "plot_the_model(trained_weight, trained_bias, my_feature, my_label)\n",
        "plot_the_loss_curve(epochs, rmse)\n",
        "\n",
        "# The loss curve suggests that the model does converge."
      ],
      "execution_count": null,
      "outputs": []
    },
    {
      "cell_type": "markdown",
      "metadata": {
        "id": "0KmzfFB5zwvd",
        "colab_type": "text"
      },
      "source": [
        "## Task 3: Increase the learning rate\n",
        "\n",
        "In Task 2, you increased the number of epochs to get the model to converge. Sometimes, you can get the model to converge more quickly by increasing the learning rate. However, setting the learning rate too high often makes it impossible for a model to converge. In Task 3, we've intentionally set the learning rate too high. Run the following code cell and see what happens."
      ]
    },
    {
      "cell_type": "code",
      "metadata": {
        "id": "eD1hTmdd0uCo",
        "colab_type": "code",
        "colab": {}
      },
      "source": [
        "# Increase the learning rate and decrease the number of epochs.\n",
        "learning_rate=100 \n",
        "epochs=500 \n",
        "\n",
        "my_model = build_model(learning_rate)\n",
        "trained_weight, trained_bias, epochs, rmse = train_model(my_model, my_feature, \n",
        "                                                         my_label, epochs,\n",
        "                                                         my_batch_size)\n",
        "plot_the_model(trained_weight, trained_bias, my_feature, my_label)\n",
        "plot_the_loss_curve(epochs, rmse)"
      ],
      "execution_count": null,
      "outputs": []
    },
    {
      "cell_type": "markdown",
      "metadata": {
        "id": "c96ITm021NEV",
        "colab_type": "text"
      },
      "source": [
        "The resulting model is terrible; the red line doesn't align with the blue dots. Furthermore, the loss curve oscillates like a [roller coaster](https://www.wikipedia.org/wiki/Roller_coaster).  An oscillating loss curve strongly suggests that the learning rate is too high. "
      ]
    },
    {
      "cell_type": "markdown",
      "metadata": {
        "id": "r63YkMx82WVr",
        "colab_type": "text"
      },
      "source": [
        "## Task 4: Find the ideal combination of epochs and learning rate\n",
        "\n",
        "Assign values to the following two hyperparameters to make training converge as efficiently as possible: \n",
        "\n",
        "*  learning_rate\n",
        "*  epochs"
      ]
    },
    {
      "cell_type": "code",
      "metadata": {
        "id": "ZYC8eR5x5n4m",
        "colab_type": "code",
        "colab": {}
      },
      "source": [
        "# Set the learning rate and number of epochs\n",
        "learning_rate= ?  # Replace ? with a floating-point number\n",
        "epochs= ?   # Replace ? with an integer\n",
        "\n",
        "my_model = build_model(learning_rate)\n",
        "trained_weight, trained_bias, epochs, rmse = train_model(my_model, my_feature, \n",
        "                                                         my_label, epochs,\n",
        "                                                         my_batch_size)\n",
        "plot_the_model(trained_weight, trained_bias, my_feature, my_label)\n",
        "plot_the_loss_curve(epochs, rmse)"
      ],
      "execution_count": null,
      "outputs": []
    },
    {
      "cell_type": "code",
      "metadata": {
        "id": "_GMGgR6O54IN",
        "colab_type": "code",
        "cellView": "form",
        "colab": {}
      },
      "source": [
        "#@title Double-click to view a possible solution\n",
        "\n",
        "learning_rate=0.14\n",
        "epochs=70\n",
        "my_batch_size=12\n",
        "\n",
        "my_model = build_model(learning_rate)\n",
        "trained_weight, trained_bias, epochs, rmse = train_model(my_model, my_feature, \n",
        "                                                         my_label, epochs,\n",
        "                                                         my_batch_size)\n",
        "plot_the_model(trained_weight, trained_bias, my_feature, my_label)\n",
        "plot_the_loss_curve(epochs, rmse)"
      ],
      "execution_count": null,
      "outputs": []
    },
    {
      "cell_type": "markdown",
      "metadata": {
        "id": "0NDET9e6AAbA",
        "colab_type": "text"
      },
      "source": [
        "## Task 5: Adjust the batch size\n",
        "\n",
        "The system recalculates the model's loss value and adjusts the model's weights and bias after each **iteration**.  Each iteration is the span in which the system processes one batch. For example, if the **batch size** is 6, then the system recalculates the model's loss value and adjusts the model's weights and bias after processing every 6 examples.  \n",
        "\n",
        "One **epoch** spans sufficient iterations to process every example in the dataset. For example, if the batch size is 12, then each epoch lasts one iteration. However, if the batch size is 6, then each epoch consumes two iterations.  \n",
        "\n",
        "It is tempting to simply set the batch size to the number of examples in the dataset (12, in this case). However, the model might actually train faster on smaller batches. Conversely, very small batches might not contain enough information to help the model converge. \n",
        "\n",
        "Experiment with `batch_size` in the following code cell. What's the smallest integer you can set for `batch_size` and still have the model converge in a hundred epochs?"
      ]
    },
    {
      "cell_type": "code",
      "metadata": {
        "id": "_vGx0lOodQrT",
        "colab_type": "code",
        "colab": {}
      },
      "source": [
        "learning_rate=0.05\n",
        "epochs=100\n",
        "my_batch_size= ?  # Replace ? with an integer.\n",
        "\n",
        "my_model = build_model(learning_rate)\n",
        "trained_weight, trained_bias, epochs, rmse = train_model(my_model, my_feature, \n",
        "                                                        my_label, epochs,\n",
        "                                                        my_batch_size)\n",
        "plot_the_model(trained_weight, trained_bias, my_feature, my_label)\n",
        "plot_the_loss_curve(epochs, rmse)"
      ],
      "execution_count": null,
      "outputs": []
    },
    {
      "cell_type": "code",
      "metadata": {
        "id": "-mtVpoBrANAm",
        "colab_type": "code",
        "cellView": "form",
        "colab": {}
      },
      "source": [
        "#@title Double-click to view a possible solution\n",
        "\n",
        "learning_rate=0.05\n",
        "epochs=125\n",
        "my_batch_size=1 # Wow, a batch size of 1 works!\n",
        "\n",
        "my_model = build_model(learning_rate)\n",
        "trained_weight, trained_bias, epochs, rmse = train_model(my_model, my_feature, \n",
        "                                                         my_label, epochs,\n",
        "                                                         my_batch_size)\n",
        "plot_the_model(trained_weight, trained_bias, my_feature, my_label)\n",
        "plot_the_loss_curve(epochs, rmse)\n"
      ],
      "execution_count": null,
      "outputs": []
    },
    {
      "cell_type": "markdown",
      "metadata": {
        "id": "aS3q7TIF9SFL",
        "colab_type": "text"
      },
      "source": [
        "## Summary of hyperparameter tuning\n",
        "\n",
        "Most machine learning problems require a lot of hyperparameter tuning.  Unfortunately, we can't provide concrete tuning rules for every model. Lowering the learning rate can help one model converge efficiently but make another model converge much too slowly.  You must experiment to find the best set of hyperparameters for your dataset. That said, here are a few rules of thumb:\n",
        "\n",
        " * Training loss should steadily decrease, steeply at first, and then more slowly until the slope of the curve reaches or approaches zero. \n",
        " * If the training loss does not converge, train for more epochs.\n",
        " * If the training loss decreases too slowly, increase the learning rate. Note that setting the training loss too high may also prevent training loss from converging.\n",
        " * If the training loss varies wildly (that is, the training loss jumps around), decrease the learning rate.\n",
        " * Lowering the learning rate while increasing the number of epochs or the batch size is often a good combination.\n",
        " * Setting the batch size to a *very* small batch number can also cause instability. First, try large batch size values. Then, decrease the batch size until you see degradation.\n",
        " * For real-world datasets consisting of a very large number of examples, the entire dataset might not fit into memory. In such cases, you'll need to reduce the batch size to enable a batch to fit into memory. \n",
        "\n",
        "Remember: the ideal combination of hyperparameters is data dependent, so you must always experiment and verify."
      ]
    }
  ],
  "metadata": {
    "colab": {
      "name": "Linear Regression with Synthetic Data.ipynb",
      "provenance": [],
      "private_outputs": true,
      "collapsed_sections": []
    },
    "kernelspec": {
      "name": "python3",
      "display_name": "Python 3"
    }
  },
  "nbformat": 4,
  "nbformat_minor": 0
}